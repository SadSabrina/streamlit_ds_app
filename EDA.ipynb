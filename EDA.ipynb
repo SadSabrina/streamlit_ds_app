{
 "cells": [
  {
   "cell_type": "markdown",
   "id": "b61635c9-8da6-4f18-884d-ccfaebd9beb6",
   "metadata": {},
   "source": [
    "# **Eda**"
   ]
  },
  {
   "cell_type": "markdown",
   "id": "31d6d314-0251-4da0-b0b5-a83c828399ca",
   "metadata": {},
   "source": [
    "## 1. Data agregation"
   ]
  },
  {
   "cell_type": "code",
   "execution_count": 1,
   "id": "d686985e-5042-4c40-b4ca-76556d65a417",
   "metadata": {},
   "outputs": [],
   "source": [
    "import pandas as pd\n",
    "from IPython.display import display\n",
    "import os"
   ]
  },
  {
   "cell_type": "code",
   "execution_count": 2,
   "id": "fb7d6faa-27e9-4ec0-8800-c30fd560481c",
   "metadata": {},
   "outputs": [],
   "source": [
    "DATA_NAMES = os.listdir('./datasets')"
   ]
  },
  {
   "cell_type": "code",
   "execution_count": 3,
   "id": "28b29e91-cef3-4bc5-9426-0082c70af2df",
   "metadata": {},
   "outputs": [
    {
     "name": "stdout",
     "output_type": "stream",
     "text": [
      "Total: 9\n",
      "Data names: ['D_loan.csv', 'D_clients.csv', 'D_last_credit.csv', 'D_pens.csv', 'D_salary.csv', 'D_target.csv', 'D_work.csv', 'D_job.csv', 'D_close_loan.csv']\n"
     ]
    }
   ],
   "source": [
    "print(f'Total: {len(DATA_NAMES)}') \n",
    "print(f'Data names: {DATA_NAMES}') "
   ]
  },
  {
   "cell_type": "code",
   "execution_count": 4,
   "id": "03056722-226a-46a3-a035-7f6158c373f0",
   "metadata": {},
   "outputs": [],
   "source": [
    "df1, df2, df3, df4, df5, df6, df7, df8, df9 = [pd.read_csv('datasets/'+i) for i in DATA_NAMES]\n",
    "\n",
    "data_list = [df1, df2, df3, df4, df5, df6, df7, df8, df9]"
   ]
  },
  {
   "cell_type": "code",
   "execution_count": 5,
   "id": "a34b2fc2-f0e0-498a-9783-0771b33dce60",
   "metadata": {
    "scrolled": true
   },
   "outputs": [
    {
     "name": "stdout",
     "output_type": "stream",
     "text": [
      "DATA NUMBER 0\n"
     ]
    },
    {
     "data": {
      "text/html": [
       "<div>\n",
       "<style scoped>\n",
       "    .dataframe tbody tr th:only-of-type {\n",
       "        vertical-align: middle;\n",
       "    }\n",
       "\n",
       "    .dataframe tbody tr th {\n",
       "        vertical-align: top;\n",
       "    }\n",
       "\n",
       "    .dataframe thead th {\n",
       "        text-align: right;\n",
       "    }\n",
       "</style>\n",
       "<table border=\"1\" class=\"dataframe\">\n",
       "  <thead>\n",
       "    <tr style=\"text-align: right;\">\n",
       "      <th></th>\n",
       "      <th>ID_LOAN</th>\n",
       "      <th>ID_CLIENT</th>\n",
       "    </tr>\n",
       "  </thead>\n",
       "  <tbody>\n",
       "    <tr>\n",
       "      <th>0</th>\n",
       "      <td>1753790658</td>\n",
       "      <td>106804370</td>\n",
       "    </tr>\n",
       "    <tr>\n",
       "      <th>1</th>\n",
       "      <td>1753790659</td>\n",
       "      <td>106804371</td>\n",
       "    </tr>\n",
       "    <tr>\n",
       "      <th>2</th>\n",
       "      <td>1753790660</td>\n",
       "      <td>106804372</td>\n",
       "    </tr>\n",
       "    <tr>\n",
       "      <th>3</th>\n",
       "      <td>1753790661</td>\n",
       "      <td>106804372</td>\n",
       "    </tr>\n",
       "    <tr>\n",
       "      <th>4</th>\n",
       "      <td>1753790662</td>\n",
       "      <td>106804373</td>\n",
       "    </tr>\n",
       "  </tbody>\n",
       "</table>\n",
       "</div>"
      ],
      "text/plain": [
       "      ID_LOAN  ID_CLIENT\n",
       "0  1753790658  106804370\n",
       "1  1753790659  106804371\n",
       "2  1753790660  106804372\n",
       "3  1753790661  106804372\n",
       "4  1753790662  106804373"
      ]
     },
     "metadata": {},
     "output_type": "display_data"
    },
    {
     "name": "stdout",
     "output_type": "stream",
     "text": [
      "Short data description:\n",
      "<class 'pandas.core.frame.DataFrame'>\n",
      "RangeIndex: 21126 entries, 0 to 21125\n",
      "Data columns (total 2 columns):\n",
      " #   Column     Non-Null Count  Dtype\n",
      "---  ------     --------------  -----\n",
      " 0   ID_LOAN    21126 non-null  int64\n",
      " 1   ID_CLIENT  21126 non-null  int64\n",
      "dtypes: int64(2)\n",
      "memory usage: 330.2 KB\n"
     ]
    },
    {
     "data": {
      "text/plain": [
       "None"
      ]
     },
     "metadata": {},
     "output_type": "display_data"
    },
    {
     "data": {
      "text/plain": [
       "ID_LOAN      21126\n",
       "ID_CLIENT    15223\n",
       "dtype: int64"
      ]
     },
     "metadata": {},
     "output_type": "display_data"
    },
    {
     "name": "stdout",
     "output_type": "stream",
     "text": [
      "DATA NUMBER 1\n"
     ]
    },
    {
     "data": {
      "text/html": [
       "<div>\n",
       "<style scoped>\n",
       "    .dataframe tbody tr th:only-of-type {\n",
       "        vertical-align: middle;\n",
       "    }\n",
       "\n",
       "    .dataframe tbody tr th {\n",
       "        vertical-align: top;\n",
       "    }\n",
       "\n",
       "    .dataframe thead th {\n",
       "        text-align: right;\n",
       "    }\n",
       "</style>\n",
       "<table border=\"1\" class=\"dataframe\">\n",
       "  <thead>\n",
       "    <tr style=\"text-align: right;\">\n",
       "      <th></th>\n",
       "      <th>ID</th>\n",
       "      <th>AGE</th>\n",
       "      <th>GENDER</th>\n",
       "      <th>EDUCATION</th>\n",
       "      <th>MARITAL_STATUS</th>\n",
       "      <th>CHILD_TOTAL</th>\n",
       "      <th>DEPENDANTS</th>\n",
       "      <th>SOCSTATUS_WORK_FL</th>\n",
       "      <th>SOCSTATUS_PENS_FL</th>\n",
       "      <th>REG_ADDRESS_PROVINCE</th>\n",
       "      <th>FACT_ADDRESS_PROVINCE</th>\n",
       "      <th>POSTAL_ADDRESS_PROVINCE</th>\n",
       "      <th>FL_PRESENCE_FL</th>\n",
       "      <th>OWN_AUTO</th>\n",
       "    </tr>\n",
       "  </thead>\n",
       "  <tbody>\n",
       "    <tr>\n",
       "      <th>0</th>\n",
       "      <td>106805103</td>\n",
       "      <td>42</td>\n",
       "      <td>1</td>\n",
       "      <td>Среднее</td>\n",
       "      <td>Не состоял в браке</td>\n",
       "      <td>1</td>\n",
       "      <td>0</td>\n",
       "      <td>1</td>\n",
       "      <td>0</td>\n",
       "      <td>Московская область</td>\n",
       "      <td>Московская область</td>\n",
       "      <td>Московская область</td>\n",
       "      <td>1</td>\n",
       "      <td>0</td>\n",
       "    </tr>\n",
       "    <tr>\n",
       "      <th>1</th>\n",
       "      <td>106809308</td>\n",
       "      <td>28</td>\n",
       "      <td>1</td>\n",
       "      <td>Среднее специальное</td>\n",
       "      <td>Состою в браке</td>\n",
       "      <td>1</td>\n",
       "      <td>1</td>\n",
       "      <td>1</td>\n",
       "      <td>0</td>\n",
       "      <td>Читинская область</td>\n",
       "      <td>Читинская область</td>\n",
       "      <td>Читинская область</td>\n",
       "      <td>0</td>\n",
       "      <td>0</td>\n",
       "    </tr>\n",
       "    <tr>\n",
       "      <th>2</th>\n",
       "      <td>106805867</td>\n",
       "      <td>64</td>\n",
       "      <td>0</td>\n",
       "      <td>Среднее специальное</td>\n",
       "      <td>Состою в браке</td>\n",
       "      <td>2</td>\n",
       "      <td>0</td>\n",
       "      <td>1</td>\n",
       "      <td>1</td>\n",
       "      <td>Иркутская область</td>\n",
       "      <td>Иркутская область</td>\n",
       "      <td>Иркутская область</td>\n",
       "      <td>0</td>\n",
       "      <td>1</td>\n",
       "    </tr>\n",
       "    <tr>\n",
       "      <th>3</th>\n",
       "      <td>106808779</td>\n",
       "      <td>54</td>\n",
       "      <td>1</td>\n",
       "      <td>Среднее специальное</td>\n",
       "      <td>Состою в браке</td>\n",
       "      <td>0</td>\n",
       "      <td>0</td>\n",
       "      <td>1</td>\n",
       "      <td>0</td>\n",
       "      <td>Новосибирская область</td>\n",
       "      <td>Новосибирская область</td>\n",
       "      <td>Новосибирская область</td>\n",
       "      <td>1</td>\n",
       "      <td>1</td>\n",
       "    </tr>\n",
       "    <tr>\n",
       "      <th>4</th>\n",
       "      <td>106814289</td>\n",
       "      <td>26</td>\n",
       "      <td>0</td>\n",
       "      <td>Среднее специальное</td>\n",
       "      <td>Состою в браке</td>\n",
       "      <td>1</td>\n",
       "      <td>1</td>\n",
       "      <td>1</td>\n",
       "      <td>0</td>\n",
       "      <td>Красноярский край</td>\n",
       "      <td>Красноярский край</td>\n",
       "      <td>Красноярский край</td>\n",
       "      <td>1</td>\n",
       "      <td>0</td>\n",
       "    </tr>\n",
       "  </tbody>\n",
       "</table>\n",
       "</div>"
      ],
      "text/plain": [
       "          ID  AGE  GENDER            EDUCATION      MARITAL_STATUS  \\\n",
       "0  106805103   42       1              Среднее  Не состоял в браке   \n",
       "1  106809308   28       1  Среднее специальное      Состою в браке   \n",
       "2  106805867   64       0  Среднее специальное      Состою в браке   \n",
       "3  106808779   54       1  Среднее специальное      Состою в браке   \n",
       "4  106814289   26       0  Среднее специальное      Состою в браке   \n",
       "\n",
       "   CHILD_TOTAL  DEPENDANTS  SOCSTATUS_WORK_FL  SOCSTATUS_PENS_FL  \\\n",
       "0            1           0                  1                  0   \n",
       "1            1           1                  1                  0   \n",
       "2            2           0                  1                  1   \n",
       "3            0           0                  1                  0   \n",
       "4            1           1                  1                  0   \n",
       "\n",
       "    REG_ADDRESS_PROVINCE  FACT_ADDRESS_PROVINCE POSTAL_ADDRESS_PROVINCE  \\\n",
       "0     Московская область     Московская область      Московская область   \n",
       "1      Читинская область      Читинская область       Читинская область   \n",
       "2      Иркутская область      Иркутская область       Иркутская область   \n",
       "3  Новосибирская область  Новосибирская область   Новосибирская область   \n",
       "4      Красноярский край      Красноярский край       Красноярский край   \n",
       "\n",
       "   FL_PRESENCE_FL  OWN_AUTO  \n",
       "0               1         0  \n",
       "1               0         0  \n",
       "2               0         1  \n",
       "3               1         1  \n",
       "4               1         0  "
      ]
     },
     "metadata": {},
     "output_type": "display_data"
    },
    {
     "name": "stdout",
     "output_type": "stream",
     "text": [
      "Short data description:\n",
      "<class 'pandas.core.frame.DataFrame'>\n",
      "RangeIndex: 16000 entries, 0 to 15999\n",
      "Data columns (total 14 columns):\n",
      " #   Column                   Non-Null Count  Dtype \n",
      "---  ------                   --------------  ----- \n",
      " 0   ID                       16000 non-null  int64 \n",
      " 1   AGE                      16000 non-null  int64 \n",
      " 2   GENDER                   16000 non-null  int64 \n",
      " 3   EDUCATION                16000 non-null  object\n",
      " 4   MARITAL_STATUS           16000 non-null  object\n",
      " 5   CHILD_TOTAL              16000 non-null  int64 \n",
      " 6   DEPENDANTS               16000 non-null  int64 \n",
      " 7   SOCSTATUS_WORK_FL        16000 non-null  int64 \n",
      " 8   SOCSTATUS_PENS_FL        16000 non-null  int64 \n",
      " 9   REG_ADDRESS_PROVINCE     16000 non-null  object\n",
      " 10  FACT_ADDRESS_PROVINCE    16000 non-null  object\n",
      " 11  POSTAL_ADDRESS_PROVINCE  16000 non-null  object\n",
      " 12  FL_PRESENCE_FL           16000 non-null  int64 \n",
      " 13  OWN_AUTO                 16000 non-null  int64 \n",
      "dtypes: int64(9), object(5)\n",
      "memory usage: 1.7+ MB\n"
     ]
    },
    {
     "data": {
      "text/plain": [
       "None"
      ]
     },
     "metadata": {},
     "output_type": "display_data"
    },
    {
     "data": {
      "text/plain": [
       "ID                         16000\n",
       "AGE                           47\n",
       "GENDER                         2\n",
       "EDUCATION                      7\n",
       "MARITAL_STATUS                 5\n",
       "CHILD_TOTAL                   10\n",
       "DEPENDANTS                     8\n",
       "SOCSTATUS_WORK_FL              2\n",
       "SOCSTATUS_PENS_FL              2\n",
       "REG_ADDRESS_PROVINCE          81\n",
       "FACT_ADDRESS_PROVINCE         81\n",
       "POSTAL_ADDRESS_PROVINCE       80\n",
       "FL_PRESENCE_FL                 2\n",
       "OWN_AUTO                       3\n",
       "dtype: int64"
      ]
     },
     "metadata": {},
     "output_type": "display_data"
    },
    {
     "name": "stdout",
     "output_type": "stream",
     "text": [
      "DATA NUMBER 2\n"
     ]
    },
    {
     "data": {
      "text/html": [
       "<div>\n",
       "<style scoped>\n",
       "    .dataframe tbody tr th:only-of-type {\n",
       "        vertical-align: middle;\n",
       "    }\n",
       "\n",
       "    .dataframe tbody tr th {\n",
       "        vertical-align: top;\n",
       "    }\n",
       "\n",
       "    .dataframe thead th {\n",
       "        text-align: right;\n",
       "    }\n",
       "</style>\n",
       "<table border=\"1\" class=\"dataframe\">\n",
       "  <thead>\n",
       "    <tr style=\"text-align: right;\">\n",
       "      <th></th>\n",
       "      <th>CREDIT</th>\n",
       "      <th>TERM</th>\n",
       "      <th>FST_PAYMENT</th>\n",
       "      <th>ID_CLIENT</th>\n",
       "    </tr>\n",
       "  </thead>\n",
       "  <tbody>\n",
       "    <tr>\n",
       "      <th>0</th>\n",
       "      <td>8000.00</td>\n",
       "      <td>6</td>\n",
       "      <td>8650.0</td>\n",
       "      <td>106804370</td>\n",
       "    </tr>\n",
       "    <tr>\n",
       "      <th>1</th>\n",
       "      <td>21650.00</td>\n",
       "      <td>6</td>\n",
       "      <td>4000.0</td>\n",
       "      <td>106804371</td>\n",
       "    </tr>\n",
       "    <tr>\n",
       "      <th>2</th>\n",
       "      <td>33126.00</td>\n",
       "      <td>12</td>\n",
       "      <td>4000.0</td>\n",
       "      <td>106804372</td>\n",
       "    </tr>\n",
       "    <tr>\n",
       "      <th>3</th>\n",
       "      <td>8491.82</td>\n",
       "      <td>6</td>\n",
       "      <td>5000.0</td>\n",
       "      <td>106804373</td>\n",
       "    </tr>\n",
       "    <tr>\n",
       "      <th>4</th>\n",
       "      <td>21990.00</td>\n",
       "      <td>12</td>\n",
       "      <td>4000.0</td>\n",
       "      <td>106804374</td>\n",
       "    </tr>\n",
       "  </tbody>\n",
       "</table>\n",
       "</div>"
      ],
      "text/plain": [
       "     CREDIT  TERM  FST_PAYMENT  ID_CLIENT\n",
       "0   8000.00     6       8650.0  106804370\n",
       "1  21650.00     6       4000.0  106804371\n",
       "2  33126.00    12       4000.0  106804372\n",
       "3   8491.82     6       5000.0  106804373\n",
       "4  21990.00    12       4000.0  106804374"
      ]
     },
     "metadata": {},
     "output_type": "display_data"
    },
    {
     "name": "stdout",
     "output_type": "stream",
     "text": [
      "Short data description:\n",
      "<class 'pandas.core.frame.DataFrame'>\n",
      "RangeIndex: 15223 entries, 0 to 15222\n",
      "Data columns (total 4 columns):\n",
      " #   Column       Non-Null Count  Dtype  \n",
      "---  ------       --------------  -----  \n",
      " 0   CREDIT       15223 non-null  float64\n",
      " 1   TERM         15223 non-null  int64  \n",
      " 2   FST_PAYMENT  15223 non-null  float64\n",
      " 3   ID_CLIENT    15223 non-null  int64  \n",
      "dtypes: float64(2), int64(2)\n",
      "memory usage: 475.8 KB\n"
     ]
    },
    {
     "data": {
      "text/plain": [
       "None"
      ]
     },
     "metadata": {},
     "output_type": "display_data"
    },
    {
     "data": {
      "text/plain": [
       "CREDIT          8029\n",
       "TERM              22\n",
       "FST_PAYMENT     2937\n",
       "ID_CLIENT      15223\n",
       "dtype: int64"
      ]
     },
     "metadata": {},
     "output_type": "display_data"
    },
    {
     "name": "stdout",
     "output_type": "stream",
     "text": [
      "DATA NUMBER 3\n"
     ]
    },
    {
     "data": {
      "text/html": [
       "<div>\n",
       "<style scoped>\n",
       "    .dataframe tbody tr th:only-of-type {\n",
       "        vertical-align: middle;\n",
       "    }\n",
       "\n",
       "    .dataframe tbody tr th {\n",
       "        vertical-align: top;\n",
       "    }\n",
       "\n",
       "    .dataframe thead th {\n",
       "        text-align: right;\n",
       "    }\n",
       "</style>\n",
       "<table border=\"1\" class=\"dataframe\">\n",
       "  <thead>\n",
       "    <tr style=\"text-align: right;\">\n",
       "      <th></th>\n",
       "      <th>ID</th>\n",
       "      <th>FLAG</th>\n",
       "      <th>COMMENT</th>\n",
       "    </tr>\n",
       "  </thead>\n",
       "  <tbody>\n",
       "    <tr>\n",
       "      <th>0</th>\n",
       "      <td>1</td>\n",
       "      <td>0</td>\n",
       "      <td>пенсионер</td>\n",
       "    </tr>\n",
       "    <tr>\n",
       "      <th>1</th>\n",
       "      <td>2</td>\n",
       "      <td>1</td>\n",
       "      <td>не пенсионер</td>\n",
       "    </tr>\n",
       "  </tbody>\n",
       "</table>\n",
       "</div>"
      ],
      "text/plain": [
       "   ID  FLAG       COMMENT\n",
       "0   1     0     пенсионер\n",
       "1   2     1  не пенсионер"
      ]
     },
     "metadata": {},
     "output_type": "display_data"
    },
    {
     "name": "stdout",
     "output_type": "stream",
     "text": [
      "Short data description:\n",
      "<class 'pandas.core.frame.DataFrame'>\n",
      "RangeIndex: 2 entries, 0 to 1\n",
      "Data columns (total 3 columns):\n",
      " #   Column   Non-Null Count  Dtype \n",
      "---  ------   --------------  ----- \n",
      " 0   ID       2 non-null      int64 \n",
      " 1   FLAG     2 non-null      int64 \n",
      " 2   COMMENT  2 non-null      object\n",
      "dtypes: int64(2), object(1)\n",
      "memory usage: 176.0+ bytes\n"
     ]
    },
    {
     "data": {
      "text/plain": [
       "None"
      ]
     },
     "metadata": {},
     "output_type": "display_data"
    },
    {
     "data": {
      "text/plain": [
       "ID         2\n",
       "FLAG       2\n",
       "COMMENT    2\n",
       "dtype: int64"
      ]
     },
     "metadata": {},
     "output_type": "display_data"
    },
    {
     "name": "stdout",
     "output_type": "stream",
     "text": [
      "DATA NUMBER 4\n"
     ]
    },
    {
     "data": {
      "text/html": [
       "<div>\n",
       "<style scoped>\n",
       "    .dataframe tbody tr th:only-of-type {\n",
       "        vertical-align: middle;\n",
       "    }\n",
       "\n",
       "    .dataframe tbody tr th {\n",
       "        vertical-align: top;\n",
       "    }\n",
       "\n",
       "    .dataframe thead th {\n",
       "        text-align: right;\n",
       "    }\n",
       "</style>\n",
       "<table border=\"1\" class=\"dataframe\">\n",
       "  <thead>\n",
       "    <tr style=\"text-align: right;\">\n",
       "      <th></th>\n",
       "      <th>FAMILY_INCOME</th>\n",
       "      <th>PERSONAL_INCOME</th>\n",
       "      <th>ID_CLIENT</th>\n",
       "    </tr>\n",
       "  </thead>\n",
       "  <tbody>\n",
       "    <tr>\n",
       "      <th>0</th>\n",
       "      <td>от 20000 до 50000 руб.</td>\n",
       "      <td>20000.0</td>\n",
       "      <td>106809321</td>\n",
       "    </tr>\n",
       "    <tr>\n",
       "      <th>1</th>\n",
       "      <td>от 20000 до 50000 руб.</td>\n",
       "      <td>14000.0</td>\n",
       "      <td>106815561</td>\n",
       "    </tr>\n",
       "    <tr>\n",
       "      <th>2</th>\n",
       "      <td>от 10000 до 20000 руб.</td>\n",
       "      <td>15000.0</td>\n",
       "      <td>106811521</td>\n",
       "    </tr>\n",
       "    <tr>\n",
       "      <th>3</th>\n",
       "      <td>от 20000 до 50000 руб.</td>\n",
       "      <td>20000.0</td>\n",
       "      <td>106811252</td>\n",
       "    </tr>\n",
       "    <tr>\n",
       "      <th>4</th>\n",
       "      <td>от 20000 до 50000 руб.</td>\n",
       "      <td>25000.0</td>\n",
       "      <td>106808620</td>\n",
       "    </tr>\n",
       "  </tbody>\n",
       "</table>\n",
       "</div>"
      ],
      "text/plain": [
       "            FAMILY_INCOME  PERSONAL_INCOME  ID_CLIENT\n",
       "0  от 20000 до 50000 руб.          20000.0  106809321\n",
       "1  от 20000 до 50000 руб.          14000.0  106815561\n",
       "2  от 10000 до 20000 руб.          15000.0  106811521\n",
       "3  от 20000 до 50000 руб.          20000.0  106811252\n",
       "4  от 20000 до 50000 руб.          25000.0  106808620"
      ]
     },
     "metadata": {},
     "output_type": "display_data"
    },
    {
     "name": "stdout",
     "output_type": "stream",
     "text": [
      "Short data description:\n",
      "<class 'pandas.core.frame.DataFrame'>\n",
      "RangeIndex: 15523 entries, 0 to 15522\n",
      "Data columns (total 3 columns):\n",
      " #   Column           Non-Null Count  Dtype  \n",
      "---  ------           --------------  -----  \n",
      " 0   FAMILY_INCOME    15523 non-null  object \n",
      " 1   PERSONAL_INCOME  15523 non-null  float64\n",
      " 2   ID_CLIENT        15523 non-null  int64  \n",
      "dtypes: float64(1), int64(1), object(1)\n",
      "memory usage: 363.9+ KB\n"
     ]
    },
    {
     "data": {
      "text/plain": [
       "None"
      ]
     },
     "metadata": {},
     "output_type": "display_data"
    },
    {
     "data": {
      "text/plain": [
       "FAMILY_INCOME          5\n",
       "PERSONAL_INCOME      274\n",
       "ID_CLIENT          15223\n",
       "dtype: int64"
      ]
     },
     "metadata": {},
     "output_type": "display_data"
    },
    {
     "name": "stdout",
     "output_type": "stream",
     "text": [
      "DATA NUMBER 5\n"
     ]
    },
    {
     "data": {
      "text/html": [
       "<div>\n",
       "<style scoped>\n",
       "    .dataframe tbody tr th:only-of-type {\n",
       "        vertical-align: middle;\n",
       "    }\n",
       "\n",
       "    .dataframe tbody tr th {\n",
       "        vertical-align: top;\n",
       "    }\n",
       "\n",
       "    .dataframe thead th {\n",
       "        text-align: right;\n",
       "    }\n",
       "</style>\n",
       "<table border=\"1\" class=\"dataframe\">\n",
       "  <thead>\n",
       "    <tr style=\"text-align: right;\">\n",
       "      <th></th>\n",
       "      <th>AGREEMENT_RK</th>\n",
       "      <th>ID_CLIENT</th>\n",
       "      <th>TARGET</th>\n",
       "    </tr>\n",
       "  </thead>\n",
       "  <tbody>\n",
       "    <tr>\n",
       "      <th>0</th>\n",
       "      <td>59910150</td>\n",
       "      <td>106804370</td>\n",
       "      <td>0</td>\n",
       "    </tr>\n",
       "    <tr>\n",
       "      <th>1</th>\n",
       "      <td>59910230</td>\n",
       "      <td>106804371</td>\n",
       "      <td>0</td>\n",
       "    </tr>\n",
       "    <tr>\n",
       "      <th>2</th>\n",
       "      <td>59910525</td>\n",
       "      <td>106804372</td>\n",
       "      <td>0</td>\n",
       "    </tr>\n",
       "    <tr>\n",
       "      <th>3</th>\n",
       "      <td>59910803</td>\n",
       "      <td>106804373</td>\n",
       "      <td>0</td>\n",
       "    </tr>\n",
       "    <tr>\n",
       "      <th>4</th>\n",
       "      <td>59911781</td>\n",
       "      <td>106804374</td>\n",
       "      <td>0</td>\n",
       "    </tr>\n",
       "  </tbody>\n",
       "</table>\n",
       "</div>"
      ],
      "text/plain": [
       "   AGREEMENT_RK  ID_CLIENT  TARGET\n",
       "0      59910150  106804370       0\n",
       "1      59910230  106804371       0\n",
       "2      59910525  106804372       0\n",
       "3      59910803  106804373       0\n",
       "4      59911781  106804374       0"
      ]
     },
     "metadata": {},
     "output_type": "display_data"
    },
    {
     "name": "stdout",
     "output_type": "stream",
     "text": [
      "Short data description:\n",
      "<class 'pandas.core.frame.DataFrame'>\n",
      "RangeIndex: 15223 entries, 0 to 15222\n",
      "Data columns (total 3 columns):\n",
      " #   Column        Non-Null Count  Dtype\n",
      "---  ------        --------------  -----\n",
      " 0   AGREEMENT_RK  15223 non-null  int64\n",
      " 1   ID_CLIENT     15223 non-null  int64\n",
      " 2   TARGET        15223 non-null  int64\n",
      "dtypes: int64(3)\n",
      "memory usage: 356.9 KB\n"
     ]
    },
    {
     "data": {
      "text/plain": [
       "None"
      ]
     },
     "metadata": {},
     "output_type": "display_data"
    },
    {
     "data": {
      "text/plain": [
       "AGREEMENT_RK    15223\n",
       "ID_CLIENT       15223\n",
       "TARGET              2\n",
       "dtype: int64"
      ]
     },
     "metadata": {},
     "output_type": "display_data"
    },
    {
     "name": "stdout",
     "output_type": "stream",
     "text": [
      "DATA NUMBER 6\n"
     ]
    },
    {
     "data": {
      "text/html": [
       "<div>\n",
       "<style scoped>\n",
       "    .dataframe tbody tr th:only-of-type {\n",
       "        vertical-align: middle;\n",
       "    }\n",
       "\n",
       "    .dataframe tbody tr th {\n",
       "        vertical-align: top;\n",
       "    }\n",
       "\n",
       "    .dataframe thead th {\n",
       "        text-align: right;\n",
       "    }\n",
       "</style>\n",
       "<table border=\"1\" class=\"dataframe\">\n",
       "  <thead>\n",
       "    <tr style=\"text-align: right;\">\n",
       "      <th></th>\n",
       "      <th>ID</th>\n",
       "      <th>FLAG</th>\n",
       "      <th>COMMENT</th>\n",
       "    </tr>\n",
       "  </thead>\n",
       "  <tbody>\n",
       "    <tr>\n",
       "      <th>0</th>\n",
       "      <td>1</td>\n",
       "      <td>0</td>\n",
       "      <td>работает</td>\n",
       "    </tr>\n",
       "    <tr>\n",
       "      <th>1</th>\n",
       "      <td>2</td>\n",
       "      <td>1</td>\n",
       "      <td>не работает</td>\n",
       "    </tr>\n",
       "    <tr>\n",
       "      <th>2</th>\n",
       "      <td>3</td>\n",
       "      <td>2</td>\n",
       "      <td>не известно</td>\n",
       "    </tr>\n",
       "  </tbody>\n",
       "</table>\n",
       "</div>"
      ],
      "text/plain": [
       "   ID  FLAG      COMMENT\n",
       "0   1     0     работает\n",
       "1   2     1  не работает\n",
       "2   3     2  не известно"
      ]
     },
     "metadata": {},
     "output_type": "display_data"
    },
    {
     "name": "stdout",
     "output_type": "stream",
     "text": [
      "Short data description:\n",
      "<class 'pandas.core.frame.DataFrame'>\n",
      "RangeIndex: 3 entries, 0 to 2\n",
      "Data columns (total 3 columns):\n",
      " #   Column   Non-Null Count  Dtype \n",
      "---  ------   --------------  ----- \n",
      " 0   ID       3 non-null      int64 \n",
      " 1   FLAG     3 non-null      int64 \n",
      " 2   COMMENT  3 non-null      object\n",
      "dtypes: int64(2), object(1)\n",
      "memory usage: 200.0+ bytes\n"
     ]
    },
    {
     "data": {
      "text/plain": [
       "None"
      ]
     },
     "metadata": {},
     "output_type": "display_data"
    },
    {
     "data": {
      "text/plain": [
       "ID         3\n",
       "FLAG       3\n",
       "COMMENT    3\n",
       "dtype: int64"
      ]
     },
     "metadata": {},
     "output_type": "display_data"
    },
    {
     "name": "stdout",
     "output_type": "stream",
     "text": [
      "DATA NUMBER 7\n"
     ]
    },
    {
     "data": {
      "text/html": [
       "<div>\n",
       "<style scoped>\n",
       "    .dataframe tbody tr th:only-of-type {\n",
       "        vertical-align: middle;\n",
       "    }\n",
       "\n",
       "    .dataframe tbody tr th {\n",
       "        vertical-align: top;\n",
       "    }\n",
       "\n",
       "    .dataframe thead th {\n",
       "        text-align: right;\n",
       "    }\n",
       "</style>\n",
       "<table border=\"1\" class=\"dataframe\">\n",
       "  <thead>\n",
       "    <tr style=\"text-align: right;\">\n",
       "      <th></th>\n",
       "      <th>GEN_INDUSTRY</th>\n",
       "      <th>GEN_TITLE</th>\n",
       "      <th>JOB_DIR</th>\n",
       "      <th>WORK_TIME</th>\n",
       "      <th>ID_CLIENT</th>\n",
       "    </tr>\n",
       "  </thead>\n",
       "  <tbody>\n",
       "    <tr>\n",
       "      <th>0</th>\n",
       "      <td>Торговля</td>\n",
       "      <td>Рабочий</td>\n",
       "      <td>Вспомогательный техперсонал</td>\n",
       "      <td>18.0</td>\n",
       "      <td>106804370</td>\n",
       "    </tr>\n",
       "    <tr>\n",
       "      <th>1</th>\n",
       "      <td>Торговля</td>\n",
       "      <td>Рабочий</td>\n",
       "      <td>Участие в основ. деятельности</td>\n",
       "      <td>97.0</td>\n",
       "      <td>106804371</td>\n",
       "    </tr>\n",
       "    <tr>\n",
       "      <th>2</th>\n",
       "      <td>Информационные технологии</td>\n",
       "      <td>Специалист</td>\n",
       "      <td>Участие в основ. деятельности</td>\n",
       "      <td>84.0</td>\n",
       "      <td>106804372</td>\n",
       "    </tr>\n",
       "    <tr>\n",
       "      <th>3</th>\n",
       "      <td>Образование</td>\n",
       "      <td>Руководитель среднего звена</td>\n",
       "      <td>Участие в основ. деятельности</td>\n",
       "      <td>168.0</td>\n",
       "      <td>106804373</td>\n",
       "    </tr>\n",
       "    <tr>\n",
       "      <th>4</th>\n",
       "      <td>Государственная служба</td>\n",
       "      <td>Специалист</td>\n",
       "      <td>Участие в основ. деятельности</td>\n",
       "      <td>101.0</td>\n",
       "      <td>106804374</td>\n",
       "    </tr>\n",
       "  </tbody>\n",
       "</table>\n",
       "</div>"
      ],
      "text/plain": [
       "                GEN_INDUSTRY                    GEN_TITLE  \\\n",
       "0                   Торговля                      Рабочий   \n",
       "1                   Торговля                      Рабочий   \n",
       "2  Информационные технологии                   Специалист   \n",
       "3                Образование  Руководитель среднего звена   \n",
       "4     Государственная служба                   Специалист   \n",
       "\n",
       "                         JOB_DIR  WORK_TIME  ID_CLIENT  \n",
       "0    Вспомогательный техперсонал       18.0  106804370  \n",
       "1  Участие в основ. деятельности       97.0  106804371  \n",
       "2  Участие в основ. деятельности       84.0  106804372  \n",
       "3  Участие в основ. деятельности      168.0  106804373  \n",
       "4  Участие в основ. деятельности      101.0  106804374  "
      ]
     },
     "metadata": {},
     "output_type": "display_data"
    },
    {
     "name": "stdout",
     "output_type": "stream",
     "text": [
      "Short data description:\n",
      "<class 'pandas.core.frame.DataFrame'>\n",
      "RangeIndex: 15223 entries, 0 to 15222\n",
      "Data columns (total 5 columns):\n",
      " #   Column        Non-Null Count  Dtype  \n",
      "---  ------        --------------  -----  \n",
      " 0   GEN_INDUSTRY  13856 non-null  object \n",
      " 1   GEN_TITLE     13856 non-null  object \n",
      " 2   JOB_DIR       13856 non-null  object \n",
      " 3   WORK_TIME     13855 non-null  float64\n",
      " 4   ID_CLIENT     15223 non-null  int64  \n",
      "dtypes: float64(1), int64(1), object(3)\n",
      "memory usage: 594.8+ KB\n"
     ]
    },
    {
     "data": {
      "text/plain": [
       "None"
      ]
     },
     "metadata": {},
     "output_type": "display_data"
    },
    {
     "data": {
      "text/plain": [
       "GEN_INDUSTRY       31\n",
       "GEN_TITLE          12\n",
       "JOB_DIR            10\n",
       "WORK_TIME         302\n",
       "ID_CLIENT       15223\n",
       "dtype: int64"
      ]
     },
     "metadata": {},
     "output_type": "display_data"
    },
    {
     "name": "stdout",
     "output_type": "stream",
     "text": [
      "DATA NUMBER 8\n"
     ]
    },
    {
     "data": {
      "text/html": [
       "<div>\n",
       "<style scoped>\n",
       "    .dataframe tbody tr th:only-of-type {\n",
       "        vertical-align: middle;\n",
       "    }\n",
       "\n",
       "    .dataframe tbody tr th {\n",
       "        vertical-align: top;\n",
       "    }\n",
       "\n",
       "    .dataframe thead th {\n",
       "        text-align: right;\n",
       "    }\n",
       "</style>\n",
       "<table border=\"1\" class=\"dataframe\">\n",
       "  <thead>\n",
       "    <tr style=\"text-align: right;\">\n",
       "      <th></th>\n",
       "      <th>ID_LOAN</th>\n",
       "      <th>CLOSED_FL</th>\n",
       "    </tr>\n",
       "  </thead>\n",
       "  <tbody>\n",
       "    <tr>\n",
       "      <th>0</th>\n",
       "      <td>1753790658</td>\n",
       "      <td>1</td>\n",
       "    </tr>\n",
       "    <tr>\n",
       "      <th>1</th>\n",
       "      <td>1753790659</td>\n",
       "      <td>1</td>\n",
       "    </tr>\n",
       "    <tr>\n",
       "      <th>2</th>\n",
       "      <td>1753790660</td>\n",
       "      <td>1</td>\n",
       "    </tr>\n",
       "    <tr>\n",
       "      <th>3</th>\n",
       "      <td>1753790661</td>\n",
       "      <td>0</td>\n",
       "    </tr>\n",
       "    <tr>\n",
       "      <th>4</th>\n",
       "      <td>1753790662</td>\n",
       "      <td>1</td>\n",
       "    </tr>\n",
       "  </tbody>\n",
       "</table>\n",
       "</div>"
      ],
      "text/plain": [
       "      ID_LOAN  CLOSED_FL\n",
       "0  1753790658          1\n",
       "1  1753790659          1\n",
       "2  1753790660          1\n",
       "3  1753790661          0\n",
       "4  1753790662          1"
      ]
     },
     "metadata": {},
     "output_type": "display_data"
    },
    {
     "name": "stdout",
     "output_type": "stream",
     "text": [
      "Short data description:\n",
      "<class 'pandas.core.frame.DataFrame'>\n",
      "RangeIndex: 21126 entries, 0 to 21125\n",
      "Data columns (total 2 columns):\n",
      " #   Column     Non-Null Count  Dtype\n",
      "---  ------     --------------  -----\n",
      " 0   ID_LOAN    21126 non-null  int64\n",
      " 1   CLOSED_FL  21126 non-null  int64\n",
      "dtypes: int64(2)\n",
      "memory usage: 330.2 KB\n"
     ]
    },
    {
     "data": {
      "text/plain": [
       "None"
      ]
     },
     "metadata": {},
     "output_type": "display_data"
    },
    {
     "data": {
      "text/plain": [
       "ID_LOAN      21126\n",
       "CLOSED_FL        2\n",
       "dtype: int64"
      ]
     },
     "metadata": {},
     "output_type": "display_data"
    }
   ],
   "source": [
    "for data_number in range(len(data_list)):\n",
    "    print(f'DATA NUMBER {data_number}')\n",
    "    display(data_list[data_number].head())\n",
    "    print('Short data description:')\n",
    "    display(data_list[data_number].info())\n",
    "    display(data_list[data_number].nunique())\n",
    "    "
   ]
  },
  {
   "cell_type": "markdown",
   "id": "ab710e58-2ef9-476e-ad50-73766cae2272",
   "metadata": {},
   "source": [
    "**The datasets contain:**\n",
    "\n",
    "1. Information about `21126` loans from `15223` clients.\n",
    "2. Information about social features of `16000` clients.\n",
    "3. Information abot loan details related to `15223` clients.\n",
    "4. Dataset with for encoding retirement status. (0 — retirement=True, 1 - retirement=False)\n",
    "5. Dataset with family and personal income of `15223` clients.\n",
    "6. Dataset with target feature to `15223` clients.\n",
    "7. Dataset with for encoding work status. (0 — works=True, 1 - works=False, 2 — works=None)\n",
    "8. Information about work of `15223` clients, contains NANs\n",
    "9. Infromation about loan closing status. "
   ]
  },
  {
   "cell_type": "markdown",
   "id": "125f9e40-366c-48ab-9c23-6431bc28d2ad",
   "metadata": {},
   "source": [
    "## 2. Data merging\n",
    "\n",
    "- It is necessary to separate the data connection by the ID_LOAN and ID_CLIENT key\n",
    "- Data with ID_CLIENT key: df1, df2, df3, df5, df6, df8\n",
    "- Data with ID_LOAN key: df1, df9"
   ]
  },
  {
   "cell_type": "markdown",
   "id": "e27675c3-e54e-40e9-90e4-aecf8e57eff6",
   "metadata": {},
   "source": [
    "Merging steps:\n",
    "\n",
    "**First:** Merging and features extracting using ID_LOAN.\n",
    "\n",
    "1) Left merge loan code `df1` and loan closing `df9` data, left because we can have old data about the closing of the loan -> `loans_merged_df`\n",
    "2) Extracting features about total conut of loans and total count of closed loans for each client -> `loans_df`\n",
    "\n",
    "**Second:** Merging and features extracting using ID_CLIENT.\n",
    "\n",
    "1) Left merge loan details `df6` and target `df3`, because to train our model we need information about clients with target feature -> general_df\n",
    "2)  Left merge `general_df` and social fetures `df2` -> general_df\n",
    "3)  Outer merge `general_df`  and personal income `df5` data -> general_df\n",
    "4)  Outer merge `general_df` and work status `df8` data -> general_df\n",
    "\n",
    "We use left merge in steps 1-4, because we need information ONLY about clients with target feature \n",
    "\n",
    "**Third:**\n",
    "\n",
    "1) Left merge `general_df` and `loans_df`,  because we need information ONLY loans clients with target feature "
   ]
  },
  {
   "cell_type": "code",
   "execution_count": 156,
   "id": "a076a059-c53b-46e4-9645-e664077b2a14",
   "metadata": {},
   "outputs": [
    {
     "name": "stdout",
     "output_type": "stream",
     "text": [
      "<class 'pandas.core.frame.DataFrame'>\n",
      "RangeIndex: 15223 entries, 0 to 15222\n",
      "Data columns (total 3 columns):\n",
      " #   Column              Non-Null Count  Dtype\n",
      "---  ------              --------------  -----\n",
      " 0   ID_CLIENT           15223 non-null  int64\n",
      " 1   closed_loans_count  15223 non-null  int64\n",
      " 2   total_loans_count   15223 non-null  int64\n",
      "dtypes: int64(3)\n",
      "memory usage: 356.9 KB\n"
     ]
    }
   ],
   "source": [
    "#ID_LOAN\n",
    "loans_merged_df = df1.merge(df9, how='left', on='ID_LOAN')\n",
    "\n",
    "#EXTRAXTING FEATURES\n",
    "\n",
    "loans_df = loans_merged_df.groupby('ID_CLIENT').agg({'CLOSED_FL' : 'sum', 'ID_LOAN' : 'count'})\n",
    "loans_df.columns = ['closed_loans_count', 'total_loans_count']\n",
    "\n",
    "loans_df.reset_index(inplace=True)\n",
    "\n",
    "loans_df.info()"
   ]
  },
  {
   "cell_type": "code",
   "execution_count": 157,
   "id": "3cf0c5dd-452e-423e-bb51-27bf07484afc",
   "metadata": {},
   "outputs": [
    {
     "name": "stdout",
     "output_type": "stream",
     "text": [
      "<class 'pandas.core.frame.DataFrame'>\n",
      "RangeIndex: 15523 entries, 0 to 15522\n",
      "Data columns (total 25 columns):\n",
      " #   Column                   Non-Null Count  Dtype  \n",
      "---  ------                   --------------  -----  \n",
      " 0   AGREEMENT_RK             15523 non-null  int64  \n",
      " 1   ID_CLIENT                15523 non-null  int64  \n",
      " 2   TARGET                   15523 non-null  int64  \n",
      " 3   CREDIT                   15523 non-null  float64\n",
      " 4   TERM                     15523 non-null  int64  \n",
      " 5   FST_PAYMENT              15523 non-null  float64\n",
      " 6   AGE                      15523 non-null  int64  \n",
      " 7   GENDER                   15523 non-null  int64  \n",
      " 8   EDUCATION                15523 non-null  object \n",
      " 9   MARITAL_STATUS           15523 non-null  object \n",
      " 10  CHILD_TOTAL              15523 non-null  int64  \n",
      " 11  DEPENDANTS               15523 non-null  int64  \n",
      " 12  SOCSTATUS_WORK_FL        15523 non-null  int64  \n",
      " 13  SOCSTATUS_PENS_FL        15523 non-null  int64  \n",
      " 14  REG_ADDRESS_PROVINCE     15523 non-null  object \n",
      " 15  FACT_ADDRESS_PROVINCE    15523 non-null  object \n",
      " 16  POSTAL_ADDRESS_PROVINCE  15523 non-null  object \n",
      " 17  FL_PRESENCE_FL           15523 non-null  int64  \n",
      " 18  OWN_AUTO                 15523 non-null  int64  \n",
      " 19  FAMILY_INCOME            15523 non-null  object \n",
      " 20  PERSONAL_INCOME          15523 non-null  float64\n",
      " 21  GEN_INDUSTRY             14126 non-null  object \n",
      " 22  GEN_TITLE                14126 non-null  object \n",
      " 23  JOB_DIR                  14126 non-null  object \n",
      " 24  WORK_TIME                14125 non-null  float64\n",
      "dtypes: float64(4), int64(12), object(9)\n",
      "memory usage: 3.0+ MB\n"
     ]
    }
   ],
   "source": [
    "#ID_CLIENT\n",
    "\n",
    "#Correction of the key in the data about social features\n",
    "df2_columns_list = list(df2.columns)\n",
    "df2_columns_list[0] = 'ID_CLIENT'\n",
    "\n",
    "df2.columns = df2_columns_list\n",
    "\n",
    "#Data merging\n",
    "\n",
    "general_df = df6.merge(df3, how='left', on='ID_CLIENT') # joined target and loan details data\n",
    "\n",
    "general_df = general_df.merge(df2, how='left', on='ID_CLIENT') # joined social features and loan details\n",
    "\n",
    "general_df = general_df.merge(df5, how='left', on='ID_CLIENT') # joined general_df and income details\n",
    "general_df = general_df.merge(df8, how='left', on='ID_CLIENT')# joined work status data\n",
    "\n",
    "general_df.info()"
   ]
  },
  {
   "cell_type": "code",
   "execution_count": 158,
   "id": "c3d94baa-62d7-4743-8f7c-fca723f5af9f",
   "metadata": {},
   "outputs": [
    {
     "name": "stdout",
     "output_type": "stream",
     "text": [
      "<class 'pandas.core.frame.DataFrame'>\n",
      "RangeIndex: 15523 entries, 0 to 15522\n",
      "Data columns (total 27 columns):\n",
      " #   Column                   Non-Null Count  Dtype  \n",
      "---  ------                   --------------  -----  \n",
      " 0   AGREEMENT_RK             15523 non-null  int64  \n",
      " 1   ID_CLIENT                15523 non-null  int64  \n",
      " 2   TARGET                   15523 non-null  int64  \n",
      " 3   CREDIT                   15523 non-null  float64\n",
      " 4   TERM                     15523 non-null  int64  \n",
      " 5   FST_PAYMENT              15523 non-null  float64\n",
      " 6   AGE                      15523 non-null  int64  \n",
      " 7   GENDER                   15523 non-null  int64  \n",
      " 8   EDUCATION                15523 non-null  object \n",
      " 9   MARITAL_STATUS           15523 non-null  object \n",
      " 10  CHILD_TOTAL              15523 non-null  int64  \n",
      " 11  DEPENDANTS               15523 non-null  int64  \n",
      " 12  SOCSTATUS_WORK_FL        15523 non-null  int64  \n",
      " 13  SOCSTATUS_PENS_FL        15523 non-null  int64  \n",
      " 14  REG_ADDRESS_PROVINCE     15523 non-null  object \n",
      " 15  FACT_ADDRESS_PROVINCE    15523 non-null  object \n",
      " 16  POSTAL_ADDRESS_PROVINCE  15523 non-null  object \n",
      " 17  FL_PRESENCE_FL           15523 non-null  int64  \n",
      " 18  OWN_AUTO                 15523 non-null  int64  \n",
      " 19  FAMILY_INCOME            15523 non-null  object \n",
      " 20  PERSONAL_INCOME          15523 non-null  float64\n",
      " 21  GEN_INDUSTRY             14126 non-null  object \n",
      " 22  GEN_TITLE                14126 non-null  object \n",
      " 23  JOB_DIR                  14126 non-null  object \n",
      " 24  WORK_TIME                14125 non-null  float64\n",
      " 25  closed_loans_count       15523 non-null  int64  \n",
      " 26  total_loans_count        15523 non-null  int64  \n",
      "dtypes: float64(4), int64(14), object(9)\n",
      "memory usage: 3.2+ MB\n"
     ]
    }
   ],
   "source": [
    "#LOANS AND CLIENTS DATA MERGING\n",
    "\n",
    "general_df = general_df.merge(loans_df, on='ID_CLIENT', how='left')\n",
    "\n",
    "general_df.info()"
   ]
  },
  {
   "cell_type": "markdown",
   "id": "f2733971-7cb8-4e8f-864e-fc157e86786b",
   "metadata": {},
   "source": [
    "Data Merging Conclusions:\n",
    "\n",
    "1) "
   ]
  }
 ],
 "metadata": {
  "kernelspec": {
   "display_name": "Python 3 (ipykernel)",
   "language": "python",
   "name": "python3"
  },
  "language_info": {
   "codemirror_mode": {
    "name": "ipython",
    "version": 3
   },
   "file_extension": ".py",
   "mimetype": "text/x-python",
   "name": "python",
   "nbconvert_exporter": "python",
   "pygments_lexer": "ipython3",
   "version": "3.10.12"
  }
 },
 "nbformat": 4,
 "nbformat_minor": 5
}
