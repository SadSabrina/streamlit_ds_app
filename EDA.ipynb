{
 "cells": [
  {
   "cell_type": "markdown",
   "id": "b61635c9-8da6-4f18-884d-ccfaebd9beb6",
   "metadata": {},
   "source": [
    "# **Eda**"
   ]
  },
  {
   "cell_type": "markdown",
   "id": "31d6d314-0251-4da0-b0b5-a83c828399ca",
   "metadata": {},
   "source": [
    "## 1. Data agregation"
   ]
  },
  {
   "cell_type": "code",
   "execution_count": 1,
   "id": "d686985e-5042-4c40-b4ca-76556d65a417",
   "metadata": {},
   "outputs": [],
   "source": [
    "import pandas as pd\n",
    "import matplotlib.pyplot as plt\n",
    "from IPython.display import display\n",
    "import os\n",
    "from sklearn.model_selection import train_test_split"
   ]
  },
  {
   "cell_type": "code",
   "execution_count": 2,
   "id": "fb7d6faa-27e9-4ec0-8800-c30fd560481c",
   "metadata": {},
   "outputs": [],
   "source": [
    "DATA_NAMES = os.listdir('./datasets')"
   ]
  },
  {
   "cell_type": "code",
   "execution_count": 3,
   "id": "28b29e91-cef3-4bc5-9426-0082c70af2df",
   "metadata": {},
   "outputs": [
    {
     "name": "stdout",
     "output_type": "stream",
     "text": [
      "Total: 9\n",
      "Data names: ['D_loan.csv', 'D_clients.csv', 'D_last_credit.csv', 'D_pens.csv', 'D_salary.csv', 'D_target.csv', 'D_work.csv', 'D_job.csv', 'D_close_loan.csv']\n"
     ]
    }
   ],
   "source": [
    "print(f'Total: {len(DATA_NAMES)}') \n",
    "print(f'Data names: {DATA_NAMES}') "
   ]
  },
  {
   "cell_type": "code",
   "execution_count": 4,
   "id": "83af5f37-6aa8-4b28-a913-9b5d1a28050c",
   "metadata": {},
   "outputs": [],
   "source": [
    "df_dict = {\n",
    "    k.split('.')[0]: pd.read_csv('datasets/' + k)\n",
    "    for k in DATA_NAMES\n",
    "}"
   ]
  },
  {
   "cell_type": "code",
   "execution_count": 5,
   "id": "a34b2fc2-f0e0-498a-9783-0771b33dce60",
   "metadata": {
    "scrolled": true
   },
   "outputs": [
    {
     "name": "stdout",
     "output_type": "stream",
     "text": [
      "DATA NUMBER: 1\n",
      "DATA_NAME: D_loan\n"
     ]
    },
    {
     "data": {
      "text/html": [
       "<div>\n",
       "<style scoped>\n",
       "    .dataframe tbody tr th:only-of-type {\n",
       "        vertical-align: middle;\n",
       "    }\n",
       "\n",
       "    .dataframe tbody tr th {\n",
       "        vertical-align: top;\n",
       "    }\n",
       "\n",
       "    .dataframe thead th {\n",
       "        text-align: right;\n",
       "    }\n",
       "</style>\n",
       "<table border=\"1\" class=\"dataframe\">\n",
       "  <thead>\n",
       "    <tr style=\"text-align: right;\">\n",
       "      <th></th>\n",
       "      <th>ID_LOAN</th>\n",
       "      <th>ID_CLIENT</th>\n",
       "    </tr>\n",
       "  </thead>\n",
       "  <tbody>\n",
       "    <tr>\n",
       "      <th>0</th>\n",
       "      <td>1753790658</td>\n",
       "      <td>106804370</td>\n",
       "    </tr>\n",
       "    <tr>\n",
       "      <th>1</th>\n",
       "      <td>1753790659</td>\n",
       "      <td>106804371</td>\n",
       "    </tr>\n",
       "    <tr>\n",
       "      <th>2</th>\n",
       "      <td>1753790660</td>\n",
       "      <td>106804372</td>\n",
       "    </tr>\n",
       "    <tr>\n",
       "      <th>3</th>\n",
       "      <td>1753790661</td>\n",
       "      <td>106804372</td>\n",
       "    </tr>\n",
       "    <tr>\n",
       "      <th>4</th>\n",
       "      <td>1753790662</td>\n",
       "      <td>106804373</td>\n",
       "    </tr>\n",
       "  </tbody>\n",
       "</table>\n",
       "</div>"
      ],
      "text/plain": [
       "      ID_LOAN  ID_CLIENT\n",
       "0  1753790658  106804370\n",
       "1  1753790659  106804371\n",
       "2  1753790660  106804372\n",
       "3  1753790661  106804372\n",
       "4  1753790662  106804373"
      ]
     },
     "metadata": {},
     "output_type": "display_data"
    },
    {
     "name": "stdout",
     "output_type": "stream",
     "text": [
      "Short data description:\n",
      "<class 'pandas.core.frame.DataFrame'>\n",
      "RangeIndex: 21126 entries, 0 to 21125\n",
      "Data columns (total 2 columns):\n",
      " #   Column     Non-Null Count  Dtype\n",
      "---  ------     --------------  -----\n",
      " 0   ID_LOAN    21126 non-null  int64\n",
      " 1   ID_CLIENT  21126 non-null  int64\n",
      "dtypes: int64(2)\n",
      "memory usage: 330.2 KB\n"
     ]
    },
    {
     "data": {
      "text/plain": [
       "None"
      ]
     },
     "metadata": {},
     "output_type": "display_data"
    },
    {
     "data": {
      "text/plain": [
       "ID_LOAN      21126\n",
       "ID_CLIENT    15223\n",
       "dtype: int64"
      ]
     },
     "metadata": {},
     "output_type": "display_data"
    },
    {
     "name": "stdout",
     "output_type": "stream",
     "text": [
      "DATA NUMBER: 2\n",
      "DATA_NAME: D_clients\n"
     ]
    },
    {
     "data": {
      "text/html": [
       "<div>\n",
       "<style scoped>\n",
       "    .dataframe tbody tr th:only-of-type {\n",
       "        vertical-align: middle;\n",
       "    }\n",
       "\n",
       "    .dataframe tbody tr th {\n",
       "        vertical-align: top;\n",
       "    }\n",
       "\n",
       "    .dataframe thead th {\n",
       "        text-align: right;\n",
       "    }\n",
       "</style>\n",
       "<table border=\"1\" class=\"dataframe\">\n",
       "  <thead>\n",
       "    <tr style=\"text-align: right;\">\n",
       "      <th></th>\n",
       "      <th>ID</th>\n",
       "      <th>AGE</th>\n",
       "      <th>GENDER</th>\n",
       "      <th>EDUCATION</th>\n",
       "      <th>MARITAL_STATUS</th>\n",
       "      <th>CHILD_TOTAL</th>\n",
       "      <th>DEPENDANTS</th>\n",
       "      <th>SOCSTATUS_WORK_FL</th>\n",
       "      <th>SOCSTATUS_PENS_FL</th>\n",
       "      <th>REG_ADDRESS_PROVINCE</th>\n",
       "      <th>FACT_ADDRESS_PROVINCE</th>\n",
       "      <th>POSTAL_ADDRESS_PROVINCE</th>\n",
       "      <th>FL_PRESENCE_FL</th>\n",
       "      <th>OWN_AUTO</th>\n",
       "    </tr>\n",
       "  </thead>\n",
       "  <tbody>\n",
       "    <tr>\n",
       "      <th>0</th>\n",
       "      <td>106805103</td>\n",
       "      <td>42</td>\n",
       "      <td>1</td>\n",
       "      <td>Среднее</td>\n",
       "      <td>Не состоял в браке</td>\n",
       "      <td>1</td>\n",
       "      <td>0</td>\n",
       "      <td>1</td>\n",
       "      <td>0</td>\n",
       "      <td>Московская область</td>\n",
       "      <td>Московская область</td>\n",
       "      <td>Московская область</td>\n",
       "      <td>1</td>\n",
       "      <td>0</td>\n",
       "    </tr>\n",
       "    <tr>\n",
       "      <th>1</th>\n",
       "      <td>106809308</td>\n",
       "      <td>28</td>\n",
       "      <td>1</td>\n",
       "      <td>Среднее специальное</td>\n",
       "      <td>Состою в браке</td>\n",
       "      <td>1</td>\n",
       "      <td>1</td>\n",
       "      <td>1</td>\n",
       "      <td>0</td>\n",
       "      <td>Читинская область</td>\n",
       "      <td>Читинская область</td>\n",
       "      <td>Читинская область</td>\n",
       "      <td>0</td>\n",
       "      <td>0</td>\n",
       "    </tr>\n",
       "    <tr>\n",
       "      <th>2</th>\n",
       "      <td>106805867</td>\n",
       "      <td>64</td>\n",
       "      <td>0</td>\n",
       "      <td>Среднее специальное</td>\n",
       "      <td>Состою в браке</td>\n",
       "      <td>2</td>\n",
       "      <td>0</td>\n",
       "      <td>1</td>\n",
       "      <td>1</td>\n",
       "      <td>Иркутская область</td>\n",
       "      <td>Иркутская область</td>\n",
       "      <td>Иркутская область</td>\n",
       "      <td>0</td>\n",
       "      <td>1</td>\n",
       "    </tr>\n",
       "    <tr>\n",
       "      <th>3</th>\n",
       "      <td>106808779</td>\n",
       "      <td>54</td>\n",
       "      <td>1</td>\n",
       "      <td>Среднее специальное</td>\n",
       "      <td>Состою в браке</td>\n",
       "      <td>0</td>\n",
       "      <td>0</td>\n",
       "      <td>1</td>\n",
       "      <td>0</td>\n",
       "      <td>Новосибирская область</td>\n",
       "      <td>Новосибирская область</td>\n",
       "      <td>Новосибирская область</td>\n",
       "      <td>1</td>\n",
       "      <td>1</td>\n",
       "    </tr>\n",
       "    <tr>\n",
       "      <th>4</th>\n",
       "      <td>106814289</td>\n",
       "      <td>26</td>\n",
       "      <td>0</td>\n",
       "      <td>Среднее специальное</td>\n",
       "      <td>Состою в браке</td>\n",
       "      <td>1</td>\n",
       "      <td>1</td>\n",
       "      <td>1</td>\n",
       "      <td>0</td>\n",
       "      <td>Красноярский край</td>\n",
       "      <td>Красноярский край</td>\n",
       "      <td>Красноярский край</td>\n",
       "      <td>1</td>\n",
       "      <td>0</td>\n",
       "    </tr>\n",
       "  </tbody>\n",
       "</table>\n",
       "</div>"
      ],
      "text/plain": [
       "          ID  AGE  GENDER            EDUCATION      MARITAL_STATUS  \\\n",
       "0  106805103   42       1              Среднее  Не состоял в браке   \n",
       "1  106809308   28       1  Среднее специальное      Состою в браке   \n",
       "2  106805867   64       0  Среднее специальное      Состою в браке   \n",
       "3  106808779   54       1  Среднее специальное      Состою в браке   \n",
       "4  106814289   26       0  Среднее специальное      Состою в браке   \n",
       "\n",
       "   CHILD_TOTAL  DEPENDANTS  SOCSTATUS_WORK_FL  SOCSTATUS_PENS_FL  \\\n",
       "0            1           0                  1                  0   \n",
       "1            1           1                  1                  0   \n",
       "2            2           0                  1                  1   \n",
       "3            0           0                  1                  0   \n",
       "4            1           1                  1                  0   \n",
       "\n",
       "    REG_ADDRESS_PROVINCE  FACT_ADDRESS_PROVINCE POSTAL_ADDRESS_PROVINCE  \\\n",
       "0     Московская область     Московская область      Московская область   \n",
       "1      Читинская область      Читинская область       Читинская область   \n",
       "2      Иркутская область      Иркутская область       Иркутская область   \n",
       "3  Новосибирская область  Новосибирская область   Новосибирская область   \n",
       "4      Красноярский край      Красноярский край       Красноярский край   \n",
       "\n",
       "   FL_PRESENCE_FL  OWN_AUTO  \n",
       "0               1         0  \n",
       "1               0         0  \n",
       "2               0         1  \n",
       "3               1         1  \n",
       "4               1         0  "
      ]
     },
     "metadata": {},
     "output_type": "display_data"
    },
    {
     "name": "stdout",
     "output_type": "stream",
     "text": [
      "Short data description:\n",
      "<class 'pandas.core.frame.DataFrame'>\n",
      "RangeIndex: 16000 entries, 0 to 15999\n",
      "Data columns (total 14 columns):\n",
      " #   Column                   Non-Null Count  Dtype \n",
      "---  ------                   --------------  ----- \n",
      " 0   ID                       16000 non-null  int64 \n",
      " 1   AGE                      16000 non-null  int64 \n",
      " 2   GENDER                   16000 non-null  int64 \n",
      " 3   EDUCATION                16000 non-null  object\n",
      " 4   MARITAL_STATUS           16000 non-null  object\n",
      " 5   CHILD_TOTAL              16000 non-null  int64 \n",
      " 6   DEPENDANTS               16000 non-null  int64 \n",
      " 7   SOCSTATUS_WORK_FL        16000 non-null  int64 \n",
      " 8   SOCSTATUS_PENS_FL        16000 non-null  int64 \n",
      " 9   REG_ADDRESS_PROVINCE     16000 non-null  object\n",
      " 10  FACT_ADDRESS_PROVINCE    16000 non-null  object\n",
      " 11  POSTAL_ADDRESS_PROVINCE  16000 non-null  object\n",
      " 12  FL_PRESENCE_FL           16000 non-null  int64 \n",
      " 13  OWN_AUTO                 16000 non-null  int64 \n",
      "dtypes: int64(9), object(5)\n",
      "memory usage: 1.7+ MB\n"
     ]
    },
    {
     "data": {
      "text/plain": [
       "None"
      ]
     },
     "metadata": {},
     "output_type": "display_data"
    },
    {
     "data": {
      "text/plain": [
       "ID                         16000\n",
       "AGE                           47\n",
       "GENDER                         2\n",
       "EDUCATION                      7\n",
       "MARITAL_STATUS                 5\n",
       "CHILD_TOTAL                   10\n",
       "DEPENDANTS                     8\n",
       "SOCSTATUS_WORK_FL              2\n",
       "SOCSTATUS_PENS_FL              2\n",
       "REG_ADDRESS_PROVINCE          81\n",
       "FACT_ADDRESS_PROVINCE         81\n",
       "POSTAL_ADDRESS_PROVINCE       80\n",
       "FL_PRESENCE_FL                 2\n",
       "OWN_AUTO                       3\n",
       "dtype: int64"
      ]
     },
     "metadata": {},
     "output_type": "display_data"
    },
    {
     "name": "stdout",
     "output_type": "stream",
     "text": [
      "DATA NUMBER: 3\n",
      "DATA_NAME: D_last_credit\n"
     ]
    },
    {
     "data": {
      "text/html": [
       "<div>\n",
       "<style scoped>\n",
       "    .dataframe tbody tr th:only-of-type {\n",
       "        vertical-align: middle;\n",
       "    }\n",
       "\n",
       "    .dataframe tbody tr th {\n",
       "        vertical-align: top;\n",
       "    }\n",
       "\n",
       "    .dataframe thead th {\n",
       "        text-align: right;\n",
       "    }\n",
       "</style>\n",
       "<table border=\"1\" class=\"dataframe\">\n",
       "  <thead>\n",
       "    <tr style=\"text-align: right;\">\n",
       "      <th></th>\n",
       "      <th>CREDIT</th>\n",
       "      <th>TERM</th>\n",
       "      <th>FST_PAYMENT</th>\n",
       "      <th>ID_CLIENT</th>\n",
       "    </tr>\n",
       "  </thead>\n",
       "  <tbody>\n",
       "    <tr>\n",
       "      <th>0</th>\n",
       "      <td>8000.00</td>\n",
       "      <td>6</td>\n",
       "      <td>8650.0</td>\n",
       "      <td>106804370</td>\n",
       "    </tr>\n",
       "    <tr>\n",
       "      <th>1</th>\n",
       "      <td>21650.00</td>\n",
       "      <td>6</td>\n",
       "      <td>4000.0</td>\n",
       "      <td>106804371</td>\n",
       "    </tr>\n",
       "    <tr>\n",
       "      <th>2</th>\n",
       "      <td>33126.00</td>\n",
       "      <td>12</td>\n",
       "      <td>4000.0</td>\n",
       "      <td>106804372</td>\n",
       "    </tr>\n",
       "    <tr>\n",
       "      <th>3</th>\n",
       "      <td>8491.82</td>\n",
       "      <td>6</td>\n",
       "      <td>5000.0</td>\n",
       "      <td>106804373</td>\n",
       "    </tr>\n",
       "    <tr>\n",
       "      <th>4</th>\n",
       "      <td>21990.00</td>\n",
       "      <td>12</td>\n",
       "      <td>4000.0</td>\n",
       "      <td>106804374</td>\n",
       "    </tr>\n",
       "  </tbody>\n",
       "</table>\n",
       "</div>"
      ],
      "text/plain": [
       "     CREDIT  TERM  FST_PAYMENT  ID_CLIENT\n",
       "0   8000.00     6       8650.0  106804370\n",
       "1  21650.00     6       4000.0  106804371\n",
       "2  33126.00    12       4000.0  106804372\n",
       "3   8491.82     6       5000.0  106804373\n",
       "4  21990.00    12       4000.0  106804374"
      ]
     },
     "metadata": {},
     "output_type": "display_data"
    },
    {
     "name": "stdout",
     "output_type": "stream",
     "text": [
      "Short data description:\n",
      "<class 'pandas.core.frame.DataFrame'>\n",
      "RangeIndex: 15223 entries, 0 to 15222\n",
      "Data columns (total 4 columns):\n",
      " #   Column       Non-Null Count  Dtype  \n",
      "---  ------       --------------  -----  \n",
      " 0   CREDIT       15223 non-null  float64\n",
      " 1   TERM         15223 non-null  int64  \n",
      " 2   FST_PAYMENT  15223 non-null  float64\n",
      " 3   ID_CLIENT    15223 non-null  int64  \n",
      "dtypes: float64(2), int64(2)\n",
      "memory usage: 475.8 KB\n"
     ]
    },
    {
     "data": {
      "text/plain": [
       "None"
      ]
     },
     "metadata": {},
     "output_type": "display_data"
    },
    {
     "data": {
      "text/plain": [
       "CREDIT          8029\n",
       "TERM              22\n",
       "FST_PAYMENT     2937\n",
       "ID_CLIENT      15223\n",
       "dtype: int64"
      ]
     },
     "metadata": {},
     "output_type": "display_data"
    },
    {
     "name": "stdout",
     "output_type": "stream",
     "text": [
      "DATA NUMBER: 4\n",
      "DATA_NAME: D_pens\n"
     ]
    },
    {
     "data": {
      "text/html": [
       "<div>\n",
       "<style scoped>\n",
       "    .dataframe tbody tr th:only-of-type {\n",
       "        vertical-align: middle;\n",
       "    }\n",
       "\n",
       "    .dataframe tbody tr th {\n",
       "        vertical-align: top;\n",
       "    }\n",
       "\n",
       "    .dataframe thead th {\n",
       "        text-align: right;\n",
       "    }\n",
       "</style>\n",
       "<table border=\"1\" class=\"dataframe\">\n",
       "  <thead>\n",
       "    <tr style=\"text-align: right;\">\n",
       "      <th></th>\n",
       "      <th>ID</th>\n",
       "      <th>FLAG</th>\n",
       "      <th>COMMENT</th>\n",
       "    </tr>\n",
       "  </thead>\n",
       "  <tbody>\n",
       "    <tr>\n",
       "      <th>0</th>\n",
       "      <td>1</td>\n",
       "      <td>0</td>\n",
       "      <td>пенсионер</td>\n",
       "    </tr>\n",
       "    <tr>\n",
       "      <th>1</th>\n",
       "      <td>2</td>\n",
       "      <td>1</td>\n",
       "      <td>не пенсионер</td>\n",
       "    </tr>\n",
       "  </tbody>\n",
       "</table>\n",
       "</div>"
      ],
      "text/plain": [
       "   ID  FLAG       COMMENT\n",
       "0   1     0     пенсионер\n",
       "1   2     1  не пенсионер"
      ]
     },
     "metadata": {},
     "output_type": "display_data"
    },
    {
     "name": "stdout",
     "output_type": "stream",
     "text": [
      "Short data description:\n",
      "<class 'pandas.core.frame.DataFrame'>\n",
      "RangeIndex: 2 entries, 0 to 1\n",
      "Data columns (total 3 columns):\n",
      " #   Column   Non-Null Count  Dtype \n",
      "---  ------   --------------  ----- \n",
      " 0   ID       2 non-null      int64 \n",
      " 1   FLAG     2 non-null      int64 \n",
      " 2   COMMENT  2 non-null      object\n",
      "dtypes: int64(2), object(1)\n",
      "memory usage: 176.0+ bytes\n"
     ]
    },
    {
     "data": {
      "text/plain": [
       "None"
      ]
     },
     "metadata": {},
     "output_type": "display_data"
    },
    {
     "data": {
      "text/plain": [
       "ID         2\n",
       "FLAG       2\n",
       "COMMENT    2\n",
       "dtype: int64"
      ]
     },
     "metadata": {},
     "output_type": "display_data"
    },
    {
     "name": "stdout",
     "output_type": "stream",
     "text": [
      "DATA NUMBER: 5\n",
      "DATA_NAME: D_salary\n"
     ]
    },
    {
     "data": {
      "text/html": [
       "<div>\n",
       "<style scoped>\n",
       "    .dataframe tbody tr th:only-of-type {\n",
       "        vertical-align: middle;\n",
       "    }\n",
       "\n",
       "    .dataframe tbody tr th {\n",
       "        vertical-align: top;\n",
       "    }\n",
       "\n",
       "    .dataframe thead th {\n",
       "        text-align: right;\n",
       "    }\n",
       "</style>\n",
       "<table border=\"1\" class=\"dataframe\">\n",
       "  <thead>\n",
       "    <tr style=\"text-align: right;\">\n",
       "      <th></th>\n",
       "      <th>FAMILY_INCOME</th>\n",
       "      <th>PERSONAL_INCOME</th>\n",
       "      <th>ID_CLIENT</th>\n",
       "    </tr>\n",
       "  </thead>\n",
       "  <tbody>\n",
       "    <tr>\n",
       "      <th>0</th>\n",
       "      <td>от 20000 до 50000 руб.</td>\n",
       "      <td>20000.0</td>\n",
       "      <td>106809321</td>\n",
       "    </tr>\n",
       "    <tr>\n",
       "      <th>1</th>\n",
       "      <td>от 20000 до 50000 руб.</td>\n",
       "      <td>14000.0</td>\n",
       "      <td>106815561</td>\n",
       "    </tr>\n",
       "    <tr>\n",
       "      <th>2</th>\n",
       "      <td>от 10000 до 20000 руб.</td>\n",
       "      <td>15000.0</td>\n",
       "      <td>106811521</td>\n",
       "    </tr>\n",
       "    <tr>\n",
       "      <th>3</th>\n",
       "      <td>от 20000 до 50000 руб.</td>\n",
       "      <td>20000.0</td>\n",
       "      <td>106811252</td>\n",
       "    </tr>\n",
       "    <tr>\n",
       "      <th>4</th>\n",
       "      <td>от 20000 до 50000 руб.</td>\n",
       "      <td>25000.0</td>\n",
       "      <td>106808620</td>\n",
       "    </tr>\n",
       "  </tbody>\n",
       "</table>\n",
       "</div>"
      ],
      "text/plain": [
       "            FAMILY_INCOME  PERSONAL_INCOME  ID_CLIENT\n",
       "0  от 20000 до 50000 руб.          20000.0  106809321\n",
       "1  от 20000 до 50000 руб.          14000.0  106815561\n",
       "2  от 10000 до 20000 руб.          15000.0  106811521\n",
       "3  от 20000 до 50000 руб.          20000.0  106811252\n",
       "4  от 20000 до 50000 руб.          25000.0  106808620"
      ]
     },
     "metadata": {},
     "output_type": "display_data"
    },
    {
     "name": "stdout",
     "output_type": "stream",
     "text": [
      "Short data description:\n",
      "<class 'pandas.core.frame.DataFrame'>\n",
      "RangeIndex: 15523 entries, 0 to 15522\n",
      "Data columns (total 3 columns):\n",
      " #   Column           Non-Null Count  Dtype  \n",
      "---  ------           --------------  -----  \n",
      " 0   FAMILY_INCOME    15523 non-null  object \n",
      " 1   PERSONAL_INCOME  15523 non-null  float64\n",
      " 2   ID_CLIENT        15523 non-null  int64  \n",
      "dtypes: float64(1), int64(1), object(1)\n",
      "memory usage: 363.9+ KB\n"
     ]
    },
    {
     "data": {
      "text/plain": [
       "None"
      ]
     },
     "metadata": {},
     "output_type": "display_data"
    },
    {
     "data": {
      "text/plain": [
       "FAMILY_INCOME          5\n",
       "PERSONAL_INCOME      274\n",
       "ID_CLIENT          15223\n",
       "dtype: int64"
      ]
     },
     "metadata": {},
     "output_type": "display_data"
    },
    {
     "name": "stdout",
     "output_type": "stream",
     "text": [
      "DATA NUMBER: 6\n",
      "DATA_NAME: D_target\n"
     ]
    },
    {
     "data": {
      "text/html": [
       "<div>\n",
       "<style scoped>\n",
       "    .dataframe tbody tr th:only-of-type {\n",
       "        vertical-align: middle;\n",
       "    }\n",
       "\n",
       "    .dataframe tbody tr th {\n",
       "        vertical-align: top;\n",
       "    }\n",
       "\n",
       "    .dataframe thead th {\n",
       "        text-align: right;\n",
       "    }\n",
       "</style>\n",
       "<table border=\"1\" class=\"dataframe\">\n",
       "  <thead>\n",
       "    <tr style=\"text-align: right;\">\n",
       "      <th></th>\n",
       "      <th>AGREEMENT_RK</th>\n",
       "      <th>ID_CLIENT</th>\n",
       "      <th>TARGET</th>\n",
       "    </tr>\n",
       "  </thead>\n",
       "  <tbody>\n",
       "    <tr>\n",
       "      <th>0</th>\n",
       "      <td>59910150</td>\n",
       "      <td>106804370</td>\n",
       "      <td>0</td>\n",
       "    </tr>\n",
       "    <tr>\n",
       "      <th>1</th>\n",
       "      <td>59910230</td>\n",
       "      <td>106804371</td>\n",
       "      <td>0</td>\n",
       "    </tr>\n",
       "    <tr>\n",
       "      <th>2</th>\n",
       "      <td>59910525</td>\n",
       "      <td>106804372</td>\n",
       "      <td>0</td>\n",
       "    </tr>\n",
       "    <tr>\n",
       "      <th>3</th>\n",
       "      <td>59910803</td>\n",
       "      <td>106804373</td>\n",
       "      <td>0</td>\n",
       "    </tr>\n",
       "    <tr>\n",
       "      <th>4</th>\n",
       "      <td>59911781</td>\n",
       "      <td>106804374</td>\n",
       "      <td>0</td>\n",
       "    </tr>\n",
       "  </tbody>\n",
       "</table>\n",
       "</div>"
      ],
      "text/plain": [
       "   AGREEMENT_RK  ID_CLIENT  TARGET\n",
       "0      59910150  106804370       0\n",
       "1      59910230  106804371       0\n",
       "2      59910525  106804372       0\n",
       "3      59910803  106804373       0\n",
       "4      59911781  106804374       0"
      ]
     },
     "metadata": {},
     "output_type": "display_data"
    },
    {
     "name": "stdout",
     "output_type": "stream",
     "text": [
      "Short data description:\n",
      "<class 'pandas.core.frame.DataFrame'>\n",
      "RangeIndex: 15223 entries, 0 to 15222\n",
      "Data columns (total 3 columns):\n",
      " #   Column        Non-Null Count  Dtype\n",
      "---  ------        --------------  -----\n",
      " 0   AGREEMENT_RK  15223 non-null  int64\n",
      " 1   ID_CLIENT     15223 non-null  int64\n",
      " 2   TARGET        15223 non-null  int64\n",
      "dtypes: int64(3)\n",
      "memory usage: 356.9 KB\n"
     ]
    },
    {
     "data": {
      "text/plain": [
       "None"
      ]
     },
     "metadata": {},
     "output_type": "display_data"
    },
    {
     "data": {
      "text/plain": [
       "AGREEMENT_RK    15223\n",
       "ID_CLIENT       15223\n",
       "TARGET              2\n",
       "dtype: int64"
      ]
     },
     "metadata": {},
     "output_type": "display_data"
    },
    {
     "name": "stdout",
     "output_type": "stream",
     "text": [
      "DATA NUMBER: 7\n",
      "DATA_NAME: D_work\n"
     ]
    },
    {
     "data": {
      "text/html": [
       "<div>\n",
       "<style scoped>\n",
       "    .dataframe tbody tr th:only-of-type {\n",
       "        vertical-align: middle;\n",
       "    }\n",
       "\n",
       "    .dataframe tbody tr th {\n",
       "        vertical-align: top;\n",
       "    }\n",
       "\n",
       "    .dataframe thead th {\n",
       "        text-align: right;\n",
       "    }\n",
       "</style>\n",
       "<table border=\"1\" class=\"dataframe\">\n",
       "  <thead>\n",
       "    <tr style=\"text-align: right;\">\n",
       "      <th></th>\n",
       "      <th>ID</th>\n",
       "      <th>FLAG</th>\n",
       "      <th>COMMENT</th>\n",
       "    </tr>\n",
       "  </thead>\n",
       "  <tbody>\n",
       "    <tr>\n",
       "      <th>0</th>\n",
       "      <td>1</td>\n",
       "      <td>0</td>\n",
       "      <td>работает</td>\n",
       "    </tr>\n",
       "    <tr>\n",
       "      <th>1</th>\n",
       "      <td>2</td>\n",
       "      <td>1</td>\n",
       "      <td>не работает</td>\n",
       "    </tr>\n",
       "    <tr>\n",
       "      <th>2</th>\n",
       "      <td>3</td>\n",
       "      <td>2</td>\n",
       "      <td>не известно</td>\n",
       "    </tr>\n",
       "  </tbody>\n",
       "</table>\n",
       "</div>"
      ],
      "text/plain": [
       "   ID  FLAG      COMMENT\n",
       "0   1     0     работает\n",
       "1   2     1  не работает\n",
       "2   3     2  не известно"
      ]
     },
     "metadata": {},
     "output_type": "display_data"
    },
    {
     "name": "stdout",
     "output_type": "stream",
     "text": [
      "Short data description:\n",
      "<class 'pandas.core.frame.DataFrame'>\n",
      "RangeIndex: 3 entries, 0 to 2\n",
      "Data columns (total 3 columns):\n",
      " #   Column   Non-Null Count  Dtype \n",
      "---  ------   --------------  ----- \n",
      " 0   ID       3 non-null      int64 \n",
      " 1   FLAG     3 non-null      int64 \n",
      " 2   COMMENT  3 non-null      object\n",
      "dtypes: int64(2), object(1)\n",
      "memory usage: 200.0+ bytes\n"
     ]
    },
    {
     "data": {
      "text/plain": [
       "None"
      ]
     },
     "metadata": {},
     "output_type": "display_data"
    },
    {
     "data": {
      "text/plain": [
       "ID         3\n",
       "FLAG       3\n",
       "COMMENT    3\n",
       "dtype: int64"
      ]
     },
     "metadata": {},
     "output_type": "display_data"
    },
    {
     "name": "stdout",
     "output_type": "stream",
     "text": [
      "DATA NUMBER: 8\n",
      "DATA_NAME: D_job\n"
     ]
    },
    {
     "data": {
      "text/html": [
       "<div>\n",
       "<style scoped>\n",
       "    .dataframe tbody tr th:only-of-type {\n",
       "        vertical-align: middle;\n",
       "    }\n",
       "\n",
       "    .dataframe tbody tr th {\n",
       "        vertical-align: top;\n",
       "    }\n",
       "\n",
       "    .dataframe thead th {\n",
       "        text-align: right;\n",
       "    }\n",
       "</style>\n",
       "<table border=\"1\" class=\"dataframe\">\n",
       "  <thead>\n",
       "    <tr style=\"text-align: right;\">\n",
       "      <th></th>\n",
       "      <th>GEN_INDUSTRY</th>\n",
       "      <th>GEN_TITLE</th>\n",
       "      <th>JOB_DIR</th>\n",
       "      <th>WORK_TIME</th>\n",
       "      <th>ID_CLIENT</th>\n",
       "    </tr>\n",
       "  </thead>\n",
       "  <tbody>\n",
       "    <tr>\n",
       "      <th>0</th>\n",
       "      <td>Торговля</td>\n",
       "      <td>Рабочий</td>\n",
       "      <td>Вспомогательный техперсонал</td>\n",
       "      <td>18.0</td>\n",
       "      <td>106804370</td>\n",
       "    </tr>\n",
       "    <tr>\n",
       "      <th>1</th>\n",
       "      <td>Торговля</td>\n",
       "      <td>Рабочий</td>\n",
       "      <td>Участие в основ. деятельности</td>\n",
       "      <td>97.0</td>\n",
       "      <td>106804371</td>\n",
       "    </tr>\n",
       "    <tr>\n",
       "      <th>2</th>\n",
       "      <td>Информационные технологии</td>\n",
       "      <td>Специалист</td>\n",
       "      <td>Участие в основ. деятельности</td>\n",
       "      <td>84.0</td>\n",
       "      <td>106804372</td>\n",
       "    </tr>\n",
       "    <tr>\n",
       "      <th>3</th>\n",
       "      <td>Образование</td>\n",
       "      <td>Руководитель среднего звена</td>\n",
       "      <td>Участие в основ. деятельности</td>\n",
       "      <td>168.0</td>\n",
       "      <td>106804373</td>\n",
       "    </tr>\n",
       "    <tr>\n",
       "      <th>4</th>\n",
       "      <td>Государственная служба</td>\n",
       "      <td>Специалист</td>\n",
       "      <td>Участие в основ. деятельности</td>\n",
       "      <td>101.0</td>\n",
       "      <td>106804374</td>\n",
       "    </tr>\n",
       "  </tbody>\n",
       "</table>\n",
       "</div>"
      ],
      "text/plain": [
       "                GEN_INDUSTRY                    GEN_TITLE  \\\n",
       "0                   Торговля                      Рабочий   \n",
       "1                   Торговля                      Рабочий   \n",
       "2  Информационные технологии                   Специалист   \n",
       "3                Образование  Руководитель среднего звена   \n",
       "4     Государственная служба                   Специалист   \n",
       "\n",
       "                         JOB_DIR  WORK_TIME  ID_CLIENT  \n",
       "0    Вспомогательный техперсонал       18.0  106804370  \n",
       "1  Участие в основ. деятельности       97.0  106804371  \n",
       "2  Участие в основ. деятельности       84.0  106804372  \n",
       "3  Участие в основ. деятельности      168.0  106804373  \n",
       "4  Участие в основ. деятельности      101.0  106804374  "
      ]
     },
     "metadata": {},
     "output_type": "display_data"
    },
    {
     "name": "stdout",
     "output_type": "stream",
     "text": [
      "Short data description:\n",
      "<class 'pandas.core.frame.DataFrame'>\n",
      "RangeIndex: 15223 entries, 0 to 15222\n",
      "Data columns (total 5 columns):\n",
      " #   Column        Non-Null Count  Dtype  \n",
      "---  ------        --------------  -----  \n",
      " 0   GEN_INDUSTRY  13856 non-null  object \n",
      " 1   GEN_TITLE     13856 non-null  object \n",
      " 2   JOB_DIR       13856 non-null  object \n",
      " 3   WORK_TIME     13855 non-null  float64\n",
      " 4   ID_CLIENT     15223 non-null  int64  \n",
      "dtypes: float64(1), int64(1), object(3)\n",
      "memory usage: 594.8+ KB\n"
     ]
    },
    {
     "data": {
      "text/plain": [
       "None"
      ]
     },
     "metadata": {},
     "output_type": "display_data"
    },
    {
     "data": {
      "text/plain": [
       "GEN_INDUSTRY       31\n",
       "GEN_TITLE          12\n",
       "JOB_DIR            10\n",
       "WORK_TIME         302\n",
       "ID_CLIENT       15223\n",
       "dtype: int64"
      ]
     },
     "metadata": {},
     "output_type": "display_data"
    },
    {
     "name": "stdout",
     "output_type": "stream",
     "text": [
      "DATA NUMBER: 9\n",
      "DATA_NAME: D_close_loan\n"
     ]
    },
    {
     "data": {
      "text/html": [
       "<div>\n",
       "<style scoped>\n",
       "    .dataframe tbody tr th:only-of-type {\n",
       "        vertical-align: middle;\n",
       "    }\n",
       "\n",
       "    .dataframe tbody tr th {\n",
       "        vertical-align: top;\n",
       "    }\n",
       "\n",
       "    .dataframe thead th {\n",
       "        text-align: right;\n",
       "    }\n",
       "</style>\n",
       "<table border=\"1\" class=\"dataframe\">\n",
       "  <thead>\n",
       "    <tr style=\"text-align: right;\">\n",
       "      <th></th>\n",
       "      <th>ID_LOAN</th>\n",
       "      <th>CLOSED_FL</th>\n",
       "    </tr>\n",
       "  </thead>\n",
       "  <tbody>\n",
       "    <tr>\n",
       "      <th>0</th>\n",
       "      <td>1753790658</td>\n",
       "      <td>1</td>\n",
       "    </tr>\n",
       "    <tr>\n",
       "      <th>1</th>\n",
       "      <td>1753790659</td>\n",
       "      <td>1</td>\n",
       "    </tr>\n",
       "    <tr>\n",
       "      <th>2</th>\n",
       "      <td>1753790660</td>\n",
       "      <td>1</td>\n",
       "    </tr>\n",
       "    <tr>\n",
       "      <th>3</th>\n",
       "      <td>1753790661</td>\n",
       "      <td>0</td>\n",
       "    </tr>\n",
       "    <tr>\n",
       "      <th>4</th>\n",
       "      <td>1753790662</td>\n",
       "      <td>1</td>\n",
       "    </tr>\n",
       "  </tbody>\n",
       "</table>\n",
       "</div>"
      ],
      "text/plain": [
       "      ID_LOAN  CLOSED_FL\n",
       "0  1753790658          1\n",
       "1  1753790659          1\n",
       "2  1753790660          1\n",
       "3  1753790661          0\n",
       "4  1753790662          1"
      ]
     },
     "metadata": {},
     "output_type": "display_data"
    },
    {
     "name": "stdout",
     "output_type": "stream",
     "text": [
      "Short data description:\n",
      "<class 'pandas.core.frame.DataFrame'>\n",
      "RangeIndex: 21126 entries, 0 to 21125\n",
      "Data columns (total 2 columns):\n",
      " #   Column     Non-Null Count  Dtype\n",
      "---  ------     --------------  -----\n",
      " 0   ID_LOAN    21126 non-null  int64\n",
      " 1   CLOSED_FL  21126 non-null  int64\n",
      "dtypes: int64(2)\n",
      "memory usage: 330.2 KB\n"
     ]
    },
    {
     "data": {
      "text/plain": [
       "None"
      ]
     },
     "metadata": {},
     "output_type": "display_data"
    },
    {
     "data": {
      "text/plain": [
       "ID_LOAN      21126\n",
       "CLOSED_FL        2\n",
       "dtype: int64"
      ]
     },
     "metadata": {},
     "output_type": "display_data"
    }
   ],
   "source": [
    "for (idx, data_name) in enumerate(df_dict.keys()):\n",
    "    print(f'DATA NUMBER: {idx+1}')\n",
    "    print(f'DATA_NAME: {data_name}')\n",
    "    display(df_dict[data_name].head())\n",
    "    print('Short data description:')\n",
    "    display(df_dict[data_name].info())\n",
    "    display(df_dict[data_name].nunique())\n",
    "    "
   ]
  },
  {
   "cell_type": "markdown",
   "id": "ab710e58-2ef9-476e-ad50-73766cae2272",
   "metadata": {},
   "source": [
    "**The datasets contain:**\n",
    "\n",
    "1. `D_loan`: information about `21126` loans from `15223` clients.\n",
    "2. `D_clients`: information about social features of `16000` clients.\n",
    "3. `D_last_credit`: information abot loan details related to `15223` clients.\n",
    "4. `D_pens`: dataset with for encoding retirement status. (0 — retirement=True, 1 - retirement=False)\n",
    "5. `D_salary`: dataset with family and personal income of `15223` clients.\n",
    "6. `D_target`: dataset with target feature to `15223` clients.\n",
    "7. `D_work`: dataset with for encoding work status. (0 — works=True, 1 - works=False, 2 — works=None)\n",
    "8. `D_job`: information about work of `15223` clients, contains NANs\n",
    "9. `D_close_loan`: infromation about loan closing status. "
   ]
  },
  {
   "cell_type": "markdown",
   "id": "125f9e40-366c-48ab-9c23-6431bc28d2ad",
   "metadata": {},
   "source": [
    "## 2. Data merging\n",
    "\n",
    "- It is necessary to separate the data connection by the ID_LOAN and ID_CLIENT key\n",
    "- Data with ID_CLIENT key: `D_loan`, `D_clients`, `D_last_credit`, `D_salary`, `D_target`, `D_job`\n",
    "- Data with ID_LOAN key: `D_loan`, `D_close_loan`"
   ]
  },
  {
   "cell_type": "markdown",
   "id": "e27675c3-e54e-40e9-90e4-aecf8e57eff6",
   "metadata": {},
   "source": [
    "Merging steps:\n",
    "\n",
    "**First:** Merging and features extracting using ID_LOAN.\n",
    "\n",
    "1) Left merge loan code `D_loan` and loan status `D_close_loan` data, left because we can have old data about the closing of the loan -> `loans_merged_df`\n",
    "2) Extracting features about total conut of loans and total count of closed loans for each client -> `loans_df`\n",
    "\n",
    "**Second:** Merging and features extracting using ID_CLIENT.\n",
    "\n",
    "1) Left merge target `D_target` and last loan details data `D_last_credit`, because to train our model we need information about clients with target feature -> general_df\n",
    "2)  Left merge `general_df` and social fetures `D_clients` -> general_df\n",
    "3)  Outer merge `general_df`  and personal income `D_salary` data -> general_df\n",
    "4)  Outer merge `general_df` and work status `D_job` data -> general_df\n",
    "\n",
    "We use left merge in steps 1-4, because we need information ONLY about clients with target feature \n",
    "\n",
    "**Third:**\n",
    "\n",
    "1) Left merge `general_df` and `loans_df`,  because we need information ONLY loans clients with target feature "
   ]
  },
  {
   "cell_type": "code",
   "execution_count": 6,
   "id": "a076a059-c53b-46e4-9645-e664077b2a14",
   "metadata": {},
   "outputs": [
    {
     "name": "stdout",
     "output_type": "stream",
     "text": [
      "<class 'pandas.core.frame.DataFrame'>\n",
      "RangeIndex: 15223 entries, 0 to 15222\n",
      "Data columns (total 3 columns):\n",
      " #   Column              Non-Null Count  Dtype\n",
      "---  ------              --------------  -----\n",
      " 0   ID_CLIENT           15223 non-null  int64\n",
      " 1   closed_loans_count  15223 non-null  int64\n",
      " 2   total_loans_count   15223 non-null  int64\n",
      "dtypes: int64(3)\n",
      "memory usage: 356.9 KB\n"
     ]
    }
   ],
   "source": [
    "#ID_LOAN\n",
    "loans_merged_df = df_dict['D_loan'].merge(df_dict['D_close_loan'], how='left', on='ID_LOAN')\n",
    "\n",
    "#EXTRAXTING FEATURES\n",
    "\n",
    "loans_df = loans_merged_df.groupby('ID_CLIENT').agg({'CLOSED_FL' : 'sum', 'ID_LOAN' : 'count'})\n",
    "loans_df.columns = ['closed_loans_count', 'total_loans_count']\n",
    "\n",
    "loans_df.reset_index(inplace=True)\n",
    "\n",
    "loans_df.info()"
   ]
  },
  {
   "cell_type": "code",
   "execution_count": 7,
   "id": "3cf0c5dd-452e-423e-bb51-27bf07484afc",
   "metadata": {},
   "outputs": [],
   "source": [
    "#ID_CLIENT\n",
    "\n",
    "#Correction of the key in the data about social features\n",
    "d_clients_columns_list = list(df_dict['D_clients'].columns)\n",
    "d_clients_columns_list[0] = 'ID_CLIENT'\n",
    "\n",
    "df_dict['D_clients'].columns = d_clients_columns_list\n",
    "\n",
    "#Data merging\n",
    "\n",
    "general_df = df_dict['D_target'].merge(df_dict['D_last_credit'], how='left', on='ID_CLIENT') # joined target and loan details data\n",
    "\n",
    "general_df = general_df.merge(df_dict['D_clients'], how='left', on='ID_CLIENT') # joined social features and loan details\n",
    "\n",
    "general_df = general_df.merge(df_dict['D_salary'], how='left', on='ID_CLIENT') # joined general_df and income details\n",
    "general_df = general_df.merge(df_dict['D_job'], how='left', on='ID_CLIENT')# joined work status data\n",
    "\n",
    "#general_df.info()"
   ]
  },
  {
   "cell_type": "code",
   "execution_count": 8,
   "id": "c3d94baa-62d7-4743-8f7c-fca723f5af9f",
   "metadata": {},
   "outputs": [
    {
     "name": "stdout",
     "output_type": "stream",
     "text": [
      "<class 'pandas.core.frame.DataFrame'>\n",
      "RangeIndex: 15523 entries, 0 to 15522\n",
      "Data columns (total 27 columns):\n",
      " #   Column                   Non-Null Count  Dtype  \n",
      "---  ------                   --------------  -----  \n",
      " 0   AGREEMENT_RK             15523 non-null  int64  \n",
      " 1   ID_CLIENT                15523 non-null  int64  \n",
      " 2   TARGET                   15523 non-null  int64  \n",
      " 3   CREDIT                   15523 non-null  float64\n",
      " 4   TERM                     15523 non-null  int64  \n",
      " 5   FST_PAYMENT              15523 non-null  float64\n",
      " 6   AGE                      15523 non-null  int64  \n",
      " 7   GENDER                   15523 non-null  int64  \n",
      " 8   EDUCATION                15523 non-null  object \n",
      " 9   MARITAL_STATUS           15523 non-null  object \n",
      " 10  CHILD_TOTAL              15523 non-null  int64  \n",
      " 11  DEPENDANTS               15523 non-null  int64  \n",
      " 12  SOCSTATUS_WORK_FL        15523 non-null  int64  \n",
      " 13  SOCSTATUS_PENS_FL        15523 non-null  int64  \n",
      " 14  REG_ADDRESS_PROVINCE     15523 non-null  object \n",
      " 15  FACT_ADDRESS_PROVINCE    15523 non-null  object \n",
      " 16  POSTAL_ADDRESS_PROVINCE  15523 non-null  object \n",
      " 17  FL_PRESENCE_FL           15523 non-null  int64  \n",
      " 18  OWN_AUTO                 15523 non-null  int64  \n",
      " 19  FAMILY_INCOME            15523 non-null  object \n",
      " 20  PERSONAL_INCOME          15523 non-null  float64\n",
      " 21  GEN_INDUSTRY             14126 non-null  object \n",
      " 22  GEN_TITLE                14126 non-null  object \n",
      " 23  JOB_DIR                  14126 non-null  object \n",
      " 24  WORK_TIME                14125 non-null  float64\n",
      " 25  closed_loans_count       15523 non-null  int64  \n",
      " 26  total_loans_count        15523 non-null  int64  \n",
      "dtypes: float64(4), int64(14), object(9)\n",
      "memory usage: 3.2+ MB\n"
     ]
    }
   ],
   "source": [
    "#LOANS AND CLIENTS DATA MERGING\n",
    "\n",
    "general_df = general_df.merge(loans_df, on='ID_CLIENT', how='left')\n",
    "\n",
    "general_df.info()"
   ]
  },
  {
   "cell_type": "markdown",
   "id": "f2733971-7cb8-4e8f-864e-fc157e86786b",
   "metadata": {},
   "source": [
    "Data Merging Conclusions:\n",
    "\n",
    "1) We have `15223` samples with `27` features. (First of all, we need to remove the features that are unique for each client - ID_CLIENT, AGREEMENT_RK).\n",
    "2) We dont have information about working status of 1098 clients.\n",
    "3) We have string features that need to be encoded or we need use model that can handle string features."
   ]
  },
  {
   "cell_type": "markdown",
   "id": "c5fbd5da-f5b1-4603-87b0-44c8f163fa47",
   "metadata": {},
   "source": [
    "## 3. Data Analysis\n",
    "\n",
    "1. Duplicates and extra columns."
   ]
  },
  {
   "cell_type": "code",
   "execution_count": 9,
   "id": "210a0b4f-47fa-4115-9164-9e8f8df000d4",
   "metadata": {},
   "outputs": [
    {
     "name": "stdout",
     "output_type": "stream",
     "text": [
      "Total count of duplicates: 300\n"
     ]
    }
   ],
   "source": [
    "#Checking for duplicates\n",
    "print(f'Total count of duplicates: {general_df.duplicated().sum()}')"
   ]
  },
  {
   "cell_type": "code",
   "execution_count": 10,
   "id": "dc8bdc62-b21e-4deb-b58b-74f3123ed131",
   "metadata": {},
   "outputs": [],
   "source": [
    "#Removing duplicates\n",
    "general_df.drop_duplicates(inplace=True)\n",
    "\n",
    "#general_df.duplicated().sum()"
   ]
  },
  {
   "cell_type": "code",
   "execution_count": 11,
   "id": "27ed86af-0b3b-4cc3-beaf-2745e8d8d4a8",
   "metadata": {},
   "outputs": [
    {
     "data": {
      "text/plain": [
       "AGREEMENT_RK               15223\n",
       "ID_CLIENT                  15223\n",
       "TARGET                         2\n",
       "CREDIT                      8029\n",
       "TERM                          22\n",
       "FST_PAYMENT                 2937\n",
       "AGE                           47\n",
       "GENDER                         2\n",
       "EDUCATION                      7\n",
       "MARITAL_STATUS                 5\n",
       "CHILD_TOTAL                   10\n",
       "DEPENDANTS                     8\n",
       "SOCSTATUS_WORK_FL              2\n",
       "SOCSTATUS_PENS_FL              2\n",
       "REG_ADDRESS_PROVINCE          81\n",
       "FACT_ADDRESS_PROVINCE         81\n",
       "POSTAL_ADDRESS_PROVINCE       80\n",
       "FL_PRESENCE_FL                 2\n",
       "OWN_AUTO                       3\n",
       "FAMILY_INCOME                  5\n",
       "PERSONAL_INCOME              274\n",
       "GEN_INDUSTRY                  31\n",
       "GEN_TITLE                     12\n",
       "JOB_DIR                       10\n",
       "WORK_TIME                    302\n",
       "closed_loans_count            10\n",
       "total_loans_count              9\n",
       "dtype: int64"
      ]
     },
     "execution_count": 11,
     "metadata": {},
     "output_type": "execute_result"
    }
   ],
   "source": [
    "#Cheking for unique values in the each columns \n",
    "general_df.nunique()"
   ]
  },
  {
   "cell_type": "code",
   "execution_count": 12,
   "id": "540de2d1-1b18-4e38-be1f-6984d16f0008",
   "metadata": {},
   "outputs": [],
   "source": [
    "#Removing columns with unique values\n",
    "general_df.drop(['AGREEMENT_RK', 'ID_CLIENT'], axis=1, inplace=True)"
   ]
  },
  {
   "cell_type": "markdown",
   "id": "b9824f96-d219-455a-ab28-1e48ba33bfd9",
   "metadata": {},
   "source": [
    "#Chek that all is correct and that we dont have new duplicates\n",
    "\n",
    "print(('AGREEMENT_RK' or 'ID_CLIENT') in list(general_df.columns))\n",
    "print(f'Total count of duplicates: {general_df.duplicated().sum()}')"
   ]
  },
  {
   "cell_type": "markdown",
   "id": "a03b33e8-4dd0-4beb-bade-bb5e36c5efdb",
   "metadata": {},
   "source": [
    "2. Feature Analysis"
   ]
  },
  {
   "cell_type": "code",
   "execution_count": 13,
   "id": "6855d26d-8af6-4356-bd07-c0b8baa39b7b",
   "metadata": {},
   "outputs": [
    {
     "data": {
      "text/html": [
       "<div>\n",
       "<style scoped>\n",
       "    .dataframe tbody tr th:only-of-type {\n",
       "        vertical-align: middle;\n",
       "    }\n",
       "\n",
       "    .dataframe tbody tr th {\n",
       "        vertical-align: top;\n",
       "    }\n",
       "\n",
       "    .dataframe thead th {\n",
       "        text-align: right;\n",
       "    }\n",
       "</style>\n",
       "<table border=\"1\" class=\"dataframe\">\n",
       "  <thead>\n",
       "    <tr style=\"text-align: right;\">\n",
       "      <th></th>\n",
       "      <th>target</th>\n",
       "      <th>credit</th>\n",
       "      <th>term</th>\n",
       "      <th>fst_payment</th>\n",
       "      <th>age</th>\n",
       "      <th>gender</th>\n",
       "      <th>education</th>\n",
       "      <th>marital_status</th>\n",
       "      <th>child_total</th>\n",
       "      <th>dependants</th>\n",
       "      <th>socstatus_work_fl</th>\n",
       "      <th>socstatus_pens_fl</th>\n",
       "      <th>reg_address_province</th>\n",
       "      <th>fact_address_province</th>\n",
       "      <th>postal_address_province</th>\n",
       "      <th>fl_presence_fl</th>\n",
       "      <th>own_auto</th>\n",
       "      <th>family_income</th>\n",
       "      <th>personal_income</th>\n",
       "      <th>gen_industry</th>\n",
       "      <th>gen_title</th>\n",
       "      <th>job_dir</th>\n",
       "      <th>work_time</th>\n",
       "      <th>closed_loans_count</th>\n",
       "      <th>total_loans_count</th>\n",
       "    </tr>\n",
       "  </thead>\n",
       "  <tbody>\n",
       "    <tr>\n",
       "      <th>0</th>\n",
       "      <td>0</td>\n",
       "      <td>8000.00</td>\n",
       "      <td>6</td>\n",
       "      <td>8650.0</td>\n",
       "      <td>49</td>\n",
       "      <td>1</td>\n",
       "      <td>Среднее специальное</td>\n",
       "      <td>Состою в браке</td>\n",
       "      <td>2</td>\n",
       "      <td>1</td>\n",
       "      <td>1</td>\n",
       "      <td>0</td>\n",
       "      <td>Оренбургская область</td>\n",
       "      <td>Оренбургская область</td>\n",
       "      <td>Оренбургская область</td>\n",
       "      <td>0</td>\n",
       "      <td>0</td>\n",
       "      <td>от 10000 до 20000 руб.</td>\n",
       "      <td>5000.0</td>\n",
       "      <td>Торговля</td>\n",
       "      <td>Рабочий</td>\n",
       "      <td>Вспомогательный техперсонал</td>\n",
       "      <td>18.0</td>\n",
       "      <td>1</td>\n",
       "      <td>1</td>\n",
       "    </tr>\n",
       "    <tr>\n",
       "      <th>2</th>\n",
       "      <td>0</td>\n",
       "      <td>21650.00</td>\n",
       "      <td>6</td>\n",
       "      <td>4000.0</td>\n",
       "      <td>32</td>\n",
       "      <td>1</td>\n",
       "      <td>Среднее</td>\n",
       "      <td>Состою в браке</td>\n",
       "      <td>3</td>\n",
       "      <td>3</td>\n",
       "      <td>1</td>\n",
       "      <td>0</td>\n",
       "      <td>Кабардино-Балкария</td>\n",
       "      <td>Кабардино-Балкария</td>\n",
       "      <td>Кабардино-Балкария</td>\n",
       "      <td>0</td>\n",
       "      <td>0</td>\n",
       "      <td>от 10000 до 20000 руб.</td>\n",
       "      <td>12000.0</td>\n",
       "      <td>Торговля</td>\n",
       "      <td>Рабочий</td>\n",
       "      <td>Участие в основ. деятельности</td>\n",
       "      <td>97.0</td>\n",
       "      <td>1</td>\n",
       "      <td>1</td>\n",
       "    </tr>\n",
       "    <tr>\n",
       "      <th>3</th>\n",
       "      <td>0</td>\n",
       "      <td>33126.00</td>\n",
       "      <td>12</td>\n",
       "      <td>4000.0</td>\n",
       "      <td>52</td>\n",
       "      <td>1</td>\n",
       "      <td>Неполное среднее</td>\n",
       "      <td>Состою в браке</td>\n",
       "      <td>4</td>\n",
       "      <td>0</td>\n",
       "      <td>1</td>\n",
       "      <td>0</td>\n",
       "      <td>Иркутская область</td>\n",
       "      <td>Иркутская область</td>\n",
       "      <td>Иркутская область</td>\n",
       "      <td>0</td>\n",
       "      <td>0</td>\n",
       "      <td>от 10000 до 20000 руб.</td>\n",
       "      <td>9000.0</td>\n",
       "      <td>Информационные технологии</td>\n",
       "      <td>Специалист</td>\n",
       "      <td>Участие в основ. деятельности</td>\n",
       "      <td>84.0</td>\n",
       "      <td>1</td>\n",
       "      <td>2</td>\n",
       "    </tr>\n",
       "    <tr>\n",
       "      <th>4</th>\n",
       "      <td>0</td>\n",
       "      <td>8491.82</td>\n",
       "      <td>6</td>\n",
       "      <td>5000.0</td>\n",
       "      <td>39</td>\n",
       "      <td>1</td>\n",
       "      <td>Высшее</td>\n",
       "      <td>Состою в браке</td>\n",
       "      <td>1</td>\n",
       "      <td>1</td>\n",
       "      <td>1</td>\n",
       "      <td>0</td>\n",
       "      <td>Ростовская область</td>\n",
       "      <td>Ростовская область</td>\n",
       "      <td>Ростовская область</td>\n",
       "      <td>1</td>\n",
       "      <td>0</td>\n",
       "      <td>от 20000 до 50000 руб.</td>\n",
       "      <td>25000.0</td>\n",
       "      <td>Образование</td>\n",
       "      <td>Руководитель среднего звена</td>\n",
       "      <td>Участие в основ. деятельности</td>\n",
       "      <td>168.0</td>\n",
       "      <td>1</td>\n",
       "      <td>1</td>\n",
       "    </tr>\n",
       "    <tr>\n",
       "      <th>5</th>\n",
       "      <td>0</td>\n",
       "      <td>21990.00</td>\n",
       "      <td>12</td>\n",
       "      <td>4000.0</td>\n",
       "      <td>30</td>\n",
       "      <td>0</td>\n",
       "      <td>Среднее</td>\n",
       "      <td>Состою в браке</td>\n",
       "      <td>0</td>\n",
       "      <td>0</td>\n",
       "      <td>1</td>\n",
       "      <td>0</td>\n",
       "      <td>Кабардино-Балкария</td>\n",
       "      <td>Кабардино-Балкария</td>\n",
       "      <td>Кабардино-Балкария</td>\n",
       "      <td>0</td>\n",
       "      <td>0</td>\n",
       "      <td>от 10000 до 20000 руб.</td>\n",
       "      <td>12000.0</td>\n",
       "      <td>Государственная служба</td>\n",
       "      <td>Специалист</td>\n",
       "      <td>Участие в основ. деятельности</td>\n",
       "      <td>101.0</td>\n",
       "      <td>1</td>\n",
       "      <td>2</td>\n",
       "    </tr>\n",
       "  </tbody>\n",
       "</table>\n",
       "</div>"
      ],
      "text/plain": [
       "   target    credit  term  fst_payment  age  gender            education  \\\n",
       "0       0   8000.00     6       8650.0   49       1  Среднее специальное   \n",
       "2       0  21650.00     6       4000.0   32       1              Среднее   \n",
       "3       0  33126.00    12       4000.0   52       1     Неполное среднее   \n",
       "4       0   8491.82     6       5000.0   39       1               Высшее   \n",
       "5       0  21990.00    12       4000.0   30       0              Среднее   \n",
       "\n",
       "   marital_status  child_total  dependants  socstatus_work_fl  \\\n",
       "0  Состою в браке            2           1                  1   \n",
       "2  Состою в браке            3           3                  1   \n",
       "3  Состою в браке            4           0                  1   \n",
       "4  Состою в браке            1           1                  1   \n",
       "5  Состою в браке            0           0                  1   \n",
       "\n",
       "   socstatus_pens_fl  reg_address_province fact_address_province  \\\n",
       "0                  0  Оренбургская область  Оренбургская область   \n",
       "2                  0    Кабардино-Балкария    Кабардино-Балкария   \n",
       "3                  0     Иркутская область     Иркутская область   \n",
       "4                  0    Ростовская область    Ростовская область   \n",
       "5                  0    Кабардино-Балкария    Кабардино-Балкария   \n",
       "\n",
       "  postal_address_province  fl_presence_fl  own_auto           family_income  \\\n",
       "0    Оренбургская область               0         0  от 10000 до 20000 руб.   \n",
       "2      Кабардино-Балкария               0         0  от 10000 до 20000 руб.   \n",
       "3       Иркутская область               0         0  от 10000 до 20000 руб.   \n",
       "4      Ростовская область               1         0  от 20000 до 50000 руб.   \n",
       "5      Кабардино-Балкария               0         0  от 10000 до 20000 руб.   \n",
       "\n",
       "   personal_income               gen_industry                    gen_title  \\\n",
       "0           5000.0                   Торговля                      Рабочий   \n",
       "2          12000.0                   Торговля                      Рабочий   \n",
       "3           9000.0  Информационные технологии                   Специалист   \n",
       "4          25000.0                Образование  Руководитель среднего звена   \n",
       "5          12000.0     Государственная служба                   Специалист   \n",
       "\n",
       "                         job_dir  work_time  closed_loans_count  \\\n",
       "0    Вспомогательный техперсонал       18.0                   1   \n",
       "2  Участие в основ. деятельности       97.0                   1   \n",
       "3  Участие в основ. деятельности       84.0                   1   \n",
       "4  Участие в основ. деятельности      168.0                   1   \n",
       "5  Участие в основ. деятельности      101.0                   1   \n",
       "\n",
       "   total_loans_count  \n",
       "0                  1  \n",
       "2                  1  \n",
       "3                  2  \n",
       "4                  1  \n",
       "5                  2  "
      ]
     },
     "execution_count": 13,
     "metadata": {},
     "output_type": "execute_result"
    }
   ],
   "source": [
    "pd.set_option('display.max_columns', 100)\n",
    "\n",
    "general_df.columns = [i.lower() for i in general_df.columns]\n",
    "general_df.head()"
   ]
  },
  {
   "cell_type": "code",
   "execution_count": 14,
   "id": "172154bc-4ac4-4676-9f2e-c6e0754b890f",
   "metadata": {},
   "outputs": [],
   "source": [
    "continuous_features = ['credit', 'fst_payment', 'age', 'child_total', 'dependants', \n",
    "                       'own_auto', 'personal_income', 'work_time', 'closed_loans_count', 'total_loans_count']\n",
    "\n",
    "categorical_features = [i for i in general_df.columns if i not in continuous_features]"
   ]
  },
  {
   "cell_type": "markdown",
   "id": "eb0eac3a-a4d0-4ee9-b515-3c6bafdb1289",
   "metadata": {},
   "source": [
    "2.1. Continuous features analysis"
   ]
  },
  {
   "cell_type": "code",
   "execution_count": 15,
   "id": "2676d147-3c03-437c-869d-af279d089c9d",
   "metadata": {},
   "outputs": [
    {
     "name": "stderr",
     "output_type": "stream",
     "text": [
      "/var/folders/97/cn0tzgm16wq1pvpg99pl3w8h0000gn/T/ipykernel_40266/944186979.py:3: UserWarning: To output multiple subplots, the figure containing the passed axes is being cleared.\n",
      "  general_df[continuous_features].hist(ax=ax);\n"
     ]
    },
    {
     "data": {
      "image/png": "[encoded data removed]",
      "text/plain": [
       "<Figure size 1500x1000 with 12 Axes>"
      ]
     },
     "metadata": {},
     "output_type": "display_data"
    }
   ],
   "source": [
    "fig, ax = plt.subplots(1, figsize=(15, 10))\n",
    "\n",
    "general_df[continuous_features].hist(ax=ax);"
   ]
  },
  {
   "cell_type": "markdown",
   "id": "50b83d33-27fa-42f4-8584-197746054ab3",
   "metadata": {},
   "source": [
    "There may be outliers in `work_time`."
   ]
  },
  {
   "cell_type": "code",
   "execution_count": 16,
   "id": "11f03ad5-96eb-46ec-9674-c21d88a18481",
   "metadata": {},
   "outputs": [
    {
     "data": {
      "text/plain": [
       "2867959.0"
      ]
     },
     "execution_count": 16,
     "metadata": {},
     "output_type": "execute_result"
    }
   ],
   "source": [
    "general_df['work_time'].max()"
   ]
  },
  {
   "cell_type": "code",
   "execution_count": 17,
   "id": "22d15861-7b7f-48c6-878a-c92291022487",
   "metadata": {},
   "outputs": [
    {
     "name": "stdout",
     "output_type": "stream",
     "text": [
      "Work time mean: 292.21198123421146, work time median: 48.0\n"
     ]
    }
   ],
   "source": [
    "work_time_mean = general_df['work_time'].mean()\n",
    "work_time_median = general_df['work_time'].median()\n",
    "\n",
    "print(f'Work time mean: {work_time_mean}, work time median: {work_time_median}')"
   ]
  },
  {
   "cell_type": "code",
   "execution_count": 18,
   "id": "6530a875-5588-4d24-9783-b8e2607ad2fc",
   "metadata": {},
   "outputs": [
    {
     "data": {
      "text/html": [
       "<div>\n",
       "<style scoped>\n",
       "    .dataframe tbody tr th:only-of-type {\n",
       "        vertical-align: middle;\n",
       "    }\n",
       "\n",
       "    .dataframe tbody tr th {\n",
       "        vertical-align: top;\n",
       "    }\n",
       "\n",
       "    .dataframe thead th {\n",
       "        text-align: right;\n",
       "    }\n",
       "</style>\n",
       "<table border=\"1\" class=\"dataframe\">\n",
       "  <thead>\n",
       "    <tr style=\"text-align: right;\">\n",
       "      <th></th>\n",
       "      <th>target</th>\n",
       "      <th>credit</th>\n",
       "      <th>term</th>\n",
       "      <th>fst_payment</th>\n",
       "      <th>age</th>\n",
       "      <th>gender</th>\n",
       "      <th>education</th>\n",
       "      <th>marital_status</th>\n",
       "      <th>child_total</th>\n",
       "      <th>dependants</th>\n",
       "      <th>socstatus_work_fl</th>\n",
       "      <th>socstatus_pens_fl</th>\n",
       "      <th>reg_address_province</th>\n",
       "      <th>fact_address_province</th>\n",
       "      <th>postal_address_province</th>\n",
       "      <th>fl_presence_fl</th>\n",
       "      <th>own_auto</th>\n",
       "      <th>family_income</th>\n",
       "      <th>personal_income</th>\n",
       "      <th>gen_industry</th>\n",
       "      <th>gen_title</th>\n",
       "      <th>job_dir</th>\n",
       "      <th>work_time</th>\n",
       "      <th>closed_loans_count</th>\n",
       "      <th>total_loans_count</th>\n",
       "    </tr>\n",
       "  </thead>\n",
       "  <tbody>\n",
       "    <tr>\n",
       "      <th>177</th>\n",
       "      <td>0</td>\n",
       "      <td>3350.0</td>\n",
       "      <td>4</td>\n",
       "      <td>1000.0</td>\n",
       "      <td>66</td>\n",
       "      <td>1</td>\n",
       "      <td>Среднее специальное</td>\n",
       "      <td>Вдовец/Вдова</td>\n",
       "      <td>1</td>\n",
       "      <td>0</td>\n",
       "      <td>1</td>\n",
       "      <td>1</td>\n",
       "      <td>Тамбовская область</td>\n",
       "      <td>Тамбовская область</td>\n",
       "      <td>Тамбовская область</td>\n",
       "      <td>1</td>\n",
       "      <td>0</td>\n",
       "      <td>от 5000 до 10000 руб.</td>\n",
       "      <td>9300.0</td>\n",
       "      <td>Здравоохранение</td>\n",
       "      <td>Рабочий</td>\n",
       "      <td>Участие в основ. деятельности</td>\n",
       "      <td>468.0</td>\n",
       "      <td>1</td>\n",
       "      <td>1</td>\n",
       "    </tr>\n",
       "    <tr>\n",
       "      <th>248</th>\n",
       "      <td>0</td>\n",
       "      <td>6720.0</td>\n",
       "      <td>6</td>\n",
       "      <td>800.0</td>\n",
       "      <td>60</td>\n",
       "      <td>0</td>\n",
       "      <td>Среднее специальное</td>\n",
       "      <td>Состою в браке</td>\n",
       "      <td>0</td>\n",
       "      <td>0</td>\n",
       "      <td>1</td>\n",
       "      <td>0</td>\n",
       "      <td>Белгородская область</td>\n",
       "      <td>Белгородская область</td>\n",
       "      <td>Белгородская область</td>\n",
       "      <td>0</td>\n",
       "      <td>0</td>\n",
       "      <td>от 20000 до 50000 руб.</td>\n",
       "      <td>11000.0</td>\n",
       "      <td>Сельское хозяйство</td>\n",
       "      <td>Рабочий</td>\n",
       "      <td>Участие в основ. деятельности</td>\n",
       "      <td>480.0</td>\n",
       "      <td>1</td>\n",
       "      <td>1</td>\n",
       "    </tr>\n",
       "    <tr>\n",
       "      <th>400</th>\n",
       "      <td>0</td>\n",
       "      <td>17531.0</td>\n",
       "      <td>10</td>\n",
       "      <td>7185.0</td>\n",
       "      <td>62</td>\n",
       "      <td>1</td>\n",
       "      <td>Среднее специальное</td>\n",
       "      <td>Разведен(а)</td>\n",
       "      <td>2</td>\n",
       "      <td>0</td>\n",
       "      <td>1</td>\n",
       "      <td>0</td>\n",
       "      <td>Томская область</td>\n",
       "      <td>Томская область</td>\n",
       "      <td>Томская область</td>\n",
       "      <td>0</td>\n",
       "      <td>0</td>\n",
       "      <td>от 20000 до 50000 руб.</td>\n",
       "      <td>23000.0</td>\n",
       "      <td>Коммунальное хоз-во/Дорожные службы</td>\n",
       "      <td>Руководитель высшего звена</td>\n",
       "      <td>Участие в основ. деятельности</td>\n",
       "      <td>432.0</td>\n",
       "      <td>0</td>\n",
       "      <td>1</td>\n",
       "    </tr>\n",
       "    <tr>\n",
       "      <th>517</th>\n",
       "      <td>0</td>\n",
       "      <td>21390.0</td>\n",
       "      <td>6</td>\n",
       "      <td>15000.0</td>\n",
       "      <td>60</td>\n",
       "      <td>1</td>\n",
       "      <td>Высшее</td>\n",
       "      <td>Вдовец/Вдова</td>\n",
       "      <td>3</td>\n",
       "      <td>0</td>\n",
       "      <td>1</td>\n",
       "      <td>0</td>\n",
       "      <td>Вологодская область</td>\n",
       "      <td>Вологодская область</td>\n",
       "      <td>Вологодская область</td>\n",
       "      <td>0</td>\n",
       "      <td>0</td>\n",
       "      <td>от 10000 до 20000 руб.</td>\n",
       "      <td>15000.0</td>\n",
       "      <td>Образование</td>\n",
       "      <td>Специалист</td>\n",
       "      <td>Участие в основ. деятельности</td>\n",
       "      <td>480.0</td>\n",
       "      <td>1</td>\n",
       "      <td>1</td>\n",
       "    </tr>\n",
       "    <tr>\n",
       "      <th>688</th>\n",
       "      <td>0</td>\n",
       "      <td>3590.0</td>\n",
       "      <td>6</td>\n",
       "      <td>400.0</td>\n",
       "      <td>53</td>\n",
       "      <td>0</td>\n",
       "      <td>Среднее специальное</td>\n",
       "      <td>Разведен(а)</td>\n",
       "      <td>3</td>\n",
       "      <td>0</td>\n",
       "      <td>1</td>\n",
       "      <td>0</td>\n",
       "      <td>Оренбургская область</td>\n",
       "      <td>Оренбургская область</td>\n",
       "      <td>Оренбургская область</td>\n",
       "      <td>1</td>\n",
       "      <td>0</td>\n",
       "      <td>от 5000 до 10000 руб.</td>\n",
       "      <td>5000.0</td>\n",
       "      <td>ЧОП/Детективная д-ть</td>\n",
       "      <td>Работник сферы услуг</td>\n",
       "      <td>Участие в основ. деятельности</td>\n",
       "      <td>780.0</td>\n",
       "      <td>1</td>\n",
       "      <td>1</td>\n",
       "    </tr>\n",
       "    <tr>\n",
       "      <th>785</th>\n",
       "      <td>0</td>\n",
       "      <td>21330.0</td>\n",
       "      <td>12</td>\n",
       "      <td>2370.0</td>\n",
       "      <td>58</td>\n",
       "      <td>0</td>\n",
       "      <td>Среднее</td>\n",
       "      <td>Состою в браке</td>\n",
       "      <td>1</td>\n",
       "      <td>1</td>\n",
       "      <td>1</td>\n",
       "      <td>1</td>\n",
       "      <td>Читинская область</td>\n",
       "      <td>Читинская область</td>\n",
       "      <td>Читинская область</td>\n",
       "      <td>0</td>\n",
       "      <td>0</td>\n",
       "      <td>от 10000 до 20000 руб.</td>\n",
       "      <td>13000.0</td>\n",
       "      <td>Металлургия/Промышленность/Машиностроение</td>\n",
       "      <td>Специалист</td>\n",
       "      <td>Участие в основ. деятельности</td>\n",
       "      <td>480.0</td>\n",
       "      <td>0</td>\n",
       "      <td>1</td>\n",
       "    </tr>\n",
       "    <tr>\n",
       "      <th>830</th>\n",
       "      <td>0</td>\n",
       "      <td>12290.9</td>\n",
       "      <td>6</td>\n",
       "      <td>2000.0</td>\n",
       "      <td>57</td>\n",
       "      <td>1</td>\n",
       "      <td>Среднее специальное</td>\n",
       "      <td>Состою в браке</td>\n",
       "      <td>0</td>\n",
       "      <td>0</td>\n",
       "      <td>1</td>\n",
       "      <td>0</td>\n",
       "      <td>Самарская область</td>\n",
       "      <td>Самарская область</td>\n",
       "      <td>Самарская область</td>\n",
       "      <td>1</td>\n",
       "      <td>0</td>\n",
       "      <td>от 20000 до 50000 руб.</td>\n",
       "      <td>14500.0</td>\n",
       "      <td>Другие сферы</td>\n",
       "      <td>Рабочий</td>\n",
       "      <td>Участие в основ. деятельности</td>\n",
       "      <td>456.0</td>\n",
       "      <td>1</td>\n",
       "      <td>1</td>\n",
       "    </tr>\n",
       "  </tbody>\n",
       "</table>\n",
       "</div>"
      ],
      "text/plain": [
       "     target   credit  term  fst_payment  age  gender            education  \\\n",
       "177       0   3350.0     4       1000.0   66       1  Среднее специальное   \n",
       "248       0   6720.0     6        800.0   60       0  Среднее специальное   \n",
       "400       0  17531.0    10       7185.0   62       1  Среднее специальное   \n",
       "517       0  21390.0     6      15000.0   60       1               Высшее   \n",
       "688       0   3590.0     6        400.0   53       0  Среднее специальное   \n",
       "785       0  21330.0    12       2370.0   58       0              Среднее   \n",
       "830       0  12290.9     6       2000.0   57       1  Среднее специальное   \n",
       "\n",
       "     marital_status  child_total  dependants  socstatus_work_fl  \\\n",
       "177    Вдовец/Вдова            1           0                  1   \n",
       "248  Состою в браке            0           0                  1   \n",
       "400     Разведен(а)            2           0                  1   \n",
       "517    Вдовец/Вдова            3           0                  1   \n",
       "688     Разведен(а)            3           0                  1   \n",
       "785  Состою в браке            1           1                  1   \n",
       "830  Состою в браке            0           0                  1   \n",
       "\n",
       "     socstatus_pens_fl  reg_address_province fact_address_province  \\\n",
       "177                  1    Тамбовская область    Тамбовская область   \n",
       "248                  0  Белгородская область  Белгородская область   \n",
       "400                  0       Томская область       Томская область   \n",
       "517                  0   Вологодская область   Вологодская область   \n",
       "688                  0  Оренбургская область  Оренбургская область   \n",
       "785                  1     Читинская область     Читинская область   \n",
       "830                  0     Самарская область     Самарская область   \n",
       "\n",
       "    postal_address_province  fl_presence_fl  own_auto           family_income  \\\n",
       "177      Тамбовская область               1         0   от 5000 до 10000 руб.   \n",
       "248    Белгородская область               0         0  от 20000 до 50000 руб.   \n",
       "400         Томская область               0         0  от 20000 до 50000 руб.   \n",
       "517     Вологодская область               0         0  от 10000 до 20000 руб.   \n",
       "688    Оренбургская область               1         0   от 5000 до 10000 руб.   \n",
       "785       Читинская область               0         0  от 10000 до 20000 руб.   \n",
       "830       Самарская область               1         0  от 20000 до 50000 руб.   \n",
       "\n",
       "     personal_income                               gen_industry  \\\n",
       "177           9300.0                            Здравоохранение   \n",
       "248          11000.0                         Сельское хозяйство   \n",
       "400          23000.0        Коммунальное хоз-во/Дорожные службы   \n",
       "517          15000.0                                Образование   \n",
       "688           5000.0                       ЧОП/Детективная д-ть   \n",
       "785          13000.0  Металлургия/Промышленность/Машиностроение   \n",
       "830          14500.0                               Другие сферы   \n",
       "\n",
       "                      gen_title                        job_dir  work_time  \\\n",
       "177                     Рабочий  Участие в основ. деятельности      468.0   \n",
       "248                     Рабочий  Участие в основ. деятельности      480.0   \n",
       "400  Руководитель высшего звена  Участие в основ. деятельности      432.0   \n",
       "517                  Специалист  Участие в основ. деятельности      480.0   \n",
       "688        Работник сферы услуг  Участие в основ. деятельности      780.0   \n",
       "785                  Специалист  Участие в основ. деятельности      480.0   \n",
       "830                     Рабочий  Участие в основ. деятельности      456.0   \n",
       "\n",
       "     closed_loans_count  total_loans_count  \n",
       "177                   1                  1  \n",
       "248                   1                  1  \n",
       "400                   0                  1  \n",
       "517                   1                  1  \n",
       "688                   1                  1  \n",
       "785                   0                  1  \n",
       "830                   1                  1  "
      ]
     },
     "execution_count": 18,
     "metadata": {},
     "output_type": "execute_result"
    }
   ],
   "source": [
    "work_time_99quantile = general_df['work_time'].quantile(0.99)\n",
    "general_df.query('work_time > @work_time_99quantile').head(7)"
   ]
  },
  {
   "cell_type": "markdown",
   "id": "164f8085-1c71-4cab-b17f-63f1545ea4b0",
   "metadata": {},
   "source": [
    "We may notice that the feature `work_time` (duration of work at the current place in months) may be filled incorrectly. Let's translate months into years and look at samples where the work experience exceeds the value of the person's age - 16. And we assume that the None values ​​mean that the person has been working for less than a month or not working.\n",
    "\n",
    "But first, we will create a test sample so that testing the model is as correct as possible."
   ]
  },
  {
   "cell_type": "code",
   "execution_count": 29,
   "id": "c690e01c-6c44-4639-aead-15f13d6cd008",
   "metadata": {},
   "outputs": [],
   "source": [
    "#New feature\n",
    "general_df['work_time_in_years'] = general_df['work_time'] // 12\n",
    "\n",
    "general_df['work_time_in_years'].fillna(0, inplace=True)\n",
    "\n",
    "continuous_features.append('work_time_in_years')\n",
    "#train test split\n",
    "\n",
    "general_df_train, general_df_test = train_test_split(general_df, random_state=42, test_size=0.25)"
   ]
  },
  {
   "cell_type": "code",
   "execution_count": 27,
   "id": "fadf021e-2cde-42e0-89cd-027024b4cd5a",
   "metadata": {},
   "outputs": [],
   "source": [
    "general_df_train_cleaned = general_df_train[general_df_train['age'] - 16 >= general_df_train['work_time_in_years']]"
   ]
  },
  {
   "cell_type": "code",
   "execution_count": 41,
   "id": "562385ff-b9a8-4cd2-bbb7-488f40efafed",
   "metadata": {},
   "outputs": [
    {
     "data": {
      "image/png": "[encoded data removed]",
      "text/plain": [
       "<Figure size 1200x400 with 2 Axes>"
      ]
     },
     "metadata": {},
     "output_type": "display_data"
    }
   ],
   "source": [
    "import seaborn as sns\n",
    "fig, ax = plt.subplots(figsize=(12, 4))\n",
    "\n",
    "sns.heatmap(general_df_train_cleaned[continuous_features].corr(), annot=True)\n",
    "\n",
    "plt.title('Матрица корреляции для непрерывных признаков');"
   ]
  },
  {
   "cell_type": "code",
   "execution_count": null,
   "id": "82b531b9-3322-4a98-9894-e83e867c5dd2",
   "metadata": {},
   "outputs": [],
   "source": []
  }
 ],
 "metadata": {
  "kernelspec": {
   "display_name": "Python 3 (ipykernel)",
   "language": "python",
   "name": "python3"
  },
  "language_info": {
   "codemirror_mode": {
    "name": "ipython",
    "version": 3
   },
   "file_extension": ".py",
   "mimetype": "text/x-python",
   "name": "python",
   "nbconvert_exporter": "python",
   "pygments_lexer": "ipython3",
   "version": "3.10.12"
  }
 },
 "nbformat": 4,
 "nbformat_minor": 5
}
